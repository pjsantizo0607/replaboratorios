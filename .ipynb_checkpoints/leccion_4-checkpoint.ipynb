{
 "cells": [
  {
   "cell_type": "markdown",
   "id": "a306bb71-7110-4adb-b202-030d5b9afe8e",
   "metadata": {},
   "source": [
    "## Notebook de la sesión 3\n",
    "**Nombre:** Pablo Santizo\\\n",
    "**Carné:** 24000134\\\n",
    "**Curso** Ciencia de Datos en Python\\\n",
    "**Maestría:** Data Science\\\n",
    "**Universidad:** Galileo, Instituto en Investigación de Operaciones"
   ]
  },
  {
   "cell_type": "markdown",
   "id": "512c14c0-f486-48bf-84f1-96eb0d6e3460",
   "metadata": {},
   "source": [
    "# 1. Sets"
   ]
  },
  {
   "cell_type": "code",
   "execution_count": 39,
   "id": "83b9232f-ff37-4882-9d64-926c4968992e",
   "metadata": {
    "tags": []
   },
   "outputs": [],
   "source": [
    "sett = {1,2,3,4,5,'Hola'}"
   ]
  },
  {
   "cell_type": "code",
   "execution_count": 40,
   "id": "89521895-49dd-4040-a5ab-0f4e9b44b904",
   "metadata": {
    "tags": []
   },
   "outputs": [
    {
     "data": {
      "text/plain": [
       "{1, 2, 3, 4, 5, 'Hola'}"
      ]
     },
     "execution_count": 40,
     "metadata": {},
     "output_type": "execute_result"
    }
   ],
   "source": [
    "sett"
   ]
  },
  {
   "cell_type": "code",
   "execution_count": 41,
   "id": "be55cdd8-2609-484f-bb11-9c5964f48357",
   "metadata": {
    "tags": []
   },
   "outputs": [],
   "source": [
    "sett.add(10)"
   ]
  },
  {
   "cell_type": "code",
   "execution_count": 42,
   "id": "26982a54-bb11-449d-a6bf-fafc7c5ecc8e",
   "metadata": {
    "tags": []
   },
   "outputs": [
    {
     "data": {
      "text/plain": [
       "{1, 10, 2, 3, 4, 5, 'Hola'}"
      ]
     },
     "execution_count": 42,
     "metadata": {},
     "output_type": "execute_result"
    }
   ],
   "source": [
    "sett"
   ]
  },
  {
   "cell_type": "code",
   "execution_count": 43,
   "id": "3d4e5784-c3b8-47bb-a62b-8a48b1ddd625",
   "metadata": {
    "tags": []
   },
   "outputs": [],
   "source": [
    "sett.add(10) #no agregó este valor"
   ]
  },
  {
   "cell_type": "code",
   "execution_count": 44,
   "id": "f183adaf-7e0d-4c87-a818-3499f2a33eaf",
   "metadata": {
    "tags": []
   },
   "outputs": [
    {
     "data": {
      "text/plain": [
       "{1, 10, 2, 3, 4, 5, 'Hola'}"
      ]
     },
     "execution_count": 44,
     "metadata": {},
     "output_type": "execute_result"
    }
   ],
   "source": [
    "sett"
   ]
  },
  {
   "cell_type": "code",
   "execution_count": 45,
   "id": "c07aed85-6e4f-4140-b86b-e351d63b15fd",
   "metadata": {
    "tags": []
   },
   "outputs": [],
   "source": [
    "set1={1,2,3,4,5}\n",
    "set2={5,6,7,8,9,4}    "
   ]
  },
  {
   "cell_type": "code",
   "execution_count": 46,
   "id": "13ea3487-a9b5-411e-887d-3344098b7632",
   "metadata": {
    "tags": []
   },
   "outputs": [
    {
     "data": {
      "text/plain": [
       "{1, 2, 3, 4, 5, 6, 7, 8, 9}"
      ]
     },
     "execution_count": 46,
     "metadata": {},
     "output_type": "execute_result"
    }
   ],
   "source": [
    "set1.union(set2)"
   ]
  },
  {
   "cell_type": "code",
   "execution_count": 47,
   "id": "b31cfbb1-b7b9-40c3-a858-b7671a61a3be",
   "metadata": {
    "tags": []
   },
   "outputs": [
    {
     "data": {
      "text/plain": [
       "{4, 5}"
      ]
     },
     "execution_count": 47,
     "metadata": {},
     "output_type": "execute_result"
    }
   ],
   "source": [
    "set1.intersection(set2)"
   ]
  },
  {
   "cell_type": "code",
   "execution_count": 48,
   "id": "7afbf4b0-ef26-4038-9181-7dc952ec23e5",
   "metadata": {
    "tags": []
   },
   "outputs": [
    {
     "data": {
      "text/plain": [
       "{1, 2, 3}"
      ]
     },
     "execution_count": 48,
     "metadata": {},
     "output_type": "execute_result"
    }
   ],
   "source": [
    "set1.difference(set2)"
   ]
  },
  {
   "cell_type": "code",
   "execution_count": 49,
   "id": "f8f038b0-707a-4c37-8d05-d7fea3683a5e",
   "metadata": {
    "tags": []
   },
   "outputs": [
    {
     "data": {
      "text/plain": [
       "{6, 7, 8, 9}"
      ]
     },
     "execution_count": 49,
     "metadata": {},
     "output_type": "execute_result"
    }
   ],
   "source": [
    "set2.difference(set1)"
   ]
  },
  {
   "cell_type": "code",
   "execution_count": 50,
   "id": "cfd9e94f-74c5-4f4d-b259-f1a4505f0810",
   "metadata": {
    "tags": []
   },
   "outputs": [
    {
     "data": {
      "text/plain": [
       "{1, 2, 3, 6, 7, 8, 9}"
      ]
     },
     "execution_count": 50,
     "metadata": {},
     "output_type": "execute_result"
    }
   ],
   "source": [
    "set1.symmetric_difference(set2)"
   ]
  },
  {
   "cell_type": "code",
   "execution_count": 51,
   "id": "a4d39734-99aa-4ca7-a805-ca68fe5a8b6c",
   "metadata": {
    "tags": []
   },
   "outputs": [
    {
     "data": {
      "text/plain": [
       "{'abc', 'dfg', 'hij'}"
      ]
     },
     "execution_count": 51,
     "metadata": {},
     "output_type": "execute_result"
    }
   ],
   "source": [
    "letras = {'abc','dfg','hij'}\n",
    "letras"
   ]
  },
  {
   "cell_type": "code",
   "execution_count": 52,
   "id": "afab612e-4705-4a05-9077-65ca3da889c5",
   "metadata": {
    "tags": []
   },
   "outputs": [
    {
     "data": {
      "text/plain": [
       "{'ABC', 'DFG', 'HIJ'}"
      ]
     },
     "execution_count": 52,
     "metadata": {},
     "output_type": "execute_result"
    }
   ],
   "source": [
    "mayusculas = {l.upper() for l in letras}\n",
    "mayusculas"
   ]
  },
  {
   "cell_type": "markdown",
   "id": "7689f890-457e-4f42-8752-fba02f7ebf59",
   "metadata": {
    "tags": []
   },
   "source": [
    "# 1.Numpy"
   ]
  },
  {
   "cell_type": "code",
   "execution_count": 53,
   "id": "a2de985b-8223-4115-ba1f-d1c091497954",
   "metadata": {
    "tags": []
   },
   "outputs": [],
   "source": [
    "import numpy as np"
   ]
  },
  {
   "cell_type": "code",
   "execution_count": 54,
   "id": "8c85d249-e29b-4101-8ed5-244fadaa1d2d",
   "metadata": {
    "tags": []
   },
   "outputs": [
    {
     "data": {
      "text/plain": [
       "[1, 2, 3, 4, 5]"
      ]
     },
     "execution_count": 54,
     "metadata": {},
     "output_type": "execute_result"
    }
   ],
   "source": [
    "X= [1,2,3,4,5]\n",
    "X"
   ]
  },
  {
   "cell_type": "code",
   "execution_count": 55,
   "id": "0710343a-d730-4829-b7f2-17b966630d83",
   "metadata": {
    "tags": []
   },
   "outputs": [
    {
     "data": {
      "text/plain": [
       "array([1., 2., 3., 4., 5., 6.])"
      ]
     },
     "execution_count": 55,
     "metadata": {},
     "output_type": "execute_result"
    }
   ],
   "source": [
    "x= np.array([1,2,3,4,5,6],dtype='float')\n",
    "x"
   ]
  },
  {
   "cell_type": "code",
   "execution_count": 56,
   "id": "749f2946-90e3-4576-99c0-36c16ca55d4c",
   "metadata": {
    "tags": []
   },
   "outputs": [
    {
     "data": {
      "text/plain": [
       "array([ 1,  2,  3,  4,  5,  6,  7,  8,  9, 10])"
      ]
     },
     "execution_count": 56,
     "metadata": {},
     "output_type": "execute_result"
    }
   ],
   "source": [
    "np.arange(1,11,1)"
   ]
  },
  {
   "cell_type": "code",
   "execution_count": 57,
   "id": "e73d34b6-70d8-46af-9a0d-50771b7d4dfa",
   "metadata": {
    "tags": []
   },
   "outputs": [
    {
     "data": {
      "text/plain": [
       "array([1.        , 1.44444444, 1.88888889, 2.33333333, 2.77777778,\n",
       "       3.22222222, 3.66666667, 4.11111111, 4.55555556, 5.        ])"
      ]
     },
     "execution_count": 57,
     "metadata": {},
     "output_type": "execute_result"
    }
   ],
   "source": [
    "np.linspace(1,5,10)"
   ]
  },
  {
   "cell_type": "code",
   "execution_count": 58,
   "id": "dd707ac0-fae2-42a1-8182-c1b783316ca7",
   "metadata": {
    "tags": []
   },
   "outputs": [
    {
     "data": {
      "text/plain": [
       "array([0., 0., 0., 0., 0., 0., 0., 0., 0., 0.])"
      ]
     },
     "execution_count": 58,
     "metadata": {},
     "output_type": "execute_result"
    }
   ],
   "source": [
    "np.zeros(10)"
   ]
  },
  {
   "cell_type": "code",
   "execution_count": 59,
   "id": "0ecaec67-b88d-44ba-9185-9bbad2c5f679",
   "metadata": {
    "tags": []
   },
   "outputs": [
    {
     "data": {
      "text/plain": [
       "array([1., 1., 1., 1., 1., 1., 1., 1., 1., 1.])"
      ]
     },
     "execution_count": 59,
     "metadata": {},
     "output_type": "execute_result"
    }
   ],
   "source": [
    "np.ones(10)"
   ]
  },
  {
   "cell_type": "code",
   "execution_count": 60,
   "id": "c5fa1ce3-51d8-419d-b61c-ba50bfe59e0a",
   "metadata": {
    "tags": []
   },
   "outputs": [
    {
     "data": {
      "text/plain": [
       "array([0., 0., 0., 0., 0., 0.])"
      ]
     },
     "execution_count": 60,
     "metadata": {},
     "output_type": "execute_result"
    }
   ],
   "source": [
    "np.zeros_like(x)"
   ]
  },
  {
   "cell_type": "markdown",
   "id": "b8a912fa-3593-44fe-9e75-3d0d0cc1ad18",
   "metadata": {
    "tags": []
   },
   "source": [
    "### 2.1 - Rangos y Dimensiones"
   ]
  },
  {
   "cell_type": "code",
   "execution_count": 61,
   "id": "f7c1046b-e919-4c80-a07f-e0b4c45a18be",
   "metadata": {
    "tags": []
   },
   "outputs": [
    {
     "data": {
      "text/plain": [
       "array([[0., 0., 0., 0., 0., 0., 0., 0., 0., 0.],\n",
       "       [0., 0., 0., 0., 0., 0., 0., 0., 0., 0.],\n",
       "       [0., 0., 0., 0., 0., 0., 0., 0., 0., 0.],\n",
       "       [0., 0., 0., 0., 0., 0., 0., 0., 0., 0.],\n",
       "       [0., 0., 0., 0., 0., 0., 0., 0., 0., 0.],\n",
       "       [0., 0., 0., 0., 0., 0., 0., 0., 0., 0.],\n",
       "       [0., 0., 0., 0., 0., 0., 0., 0., 0., 0.],\n",
       "       [0., 0., 0., 0., 0., 0., 0., 0., 0., 0.],\n",
       "       [0., 0., 0., 0., 0., 0., 0., 0., 0., 0.],\n",
       "       [0., 0., 0., 0., 0., 0., 0., 0., 0., 0.]])"
      ]
     },
     "execution_count": 61,
     "metadata": {},
     "output_type": "execute_result"
    }
   ],
   "source": [
    "x = np.zeros((10,10))\n",
    "x"
   ]
  },
  {
   "cell_type": "code",
   "execution_count": 62,
   "id": "8e8f61c7-7929-4c34-a498-08d022764e2f",
   "metadata": {
    "tags": []
   },
   "outputs": [
    {
     "data": {
      "text/plain": [
       "(10, 10)"
      ]
     },
     "execution_count": 62,
     "metadata": {},
     "output_type": "execute_result"
    }
   ],
   "source": [
    "#dimensiones del tensor.\n",
    "x.shape #cantidad de elementos que tiene cada dimensión"
   ]
  },
  {
   "cell_type": "code",
   "execution_count": 63,
   "id": "ac52573f-580b-452d-99a0-5c5921f907bb",
   "metadata": {
    "tags": []
   },
   "outputs": [
    {
     "data": {
      "text/plain": [
       "2"
      ]
     },
     "execution_count": 63,
     "metadata": {},
     "output_type": "execute_result"
    }
   ],
   "source": [
    " #rango del tensor.\n",
    "x.ndim #cantidad de dimensiones"
   ]
  },
  {
   "cell_type": "code",
   "execution_count": 64,
   "id": "261f848e-5f3b-4204-aab0-5502a18ded92",
   "metadata": {
    "tags": []
   },
   "outputs": [
    {
     "data": {
      "text/plain": [
       "0.0"
      ]
     },
     "execution_count": 64,
     "metadata": {},
     "output_type": "execute_result"
    }
   ],
   "source": [
    "x[2,1]"
   ]
  },
  {
   "cell_type": "code",
   "execution_count": 65,
   "id": "46bef277-bd7f-4305-ae4c-48773aac3561",
   "metadata": {
    "tags": []
   },
   "outputs": [],
   "source": [
    "x = np.array([[[10, 20, 30, 40, 50], \n",
    "               [60, 70, 80, 90, 100]], \n",
    "               [[100, 200, 300, 400, 500], \n",
    "                [600, 700, 800, 900, 1000]]\n",
    "            ])"
   ]
  },
  {
   "cell_type": "code",
   "execution_count": 66,
   "id": "c17f50f6-9dc5-40fa-a11e-e9ca0637b1d2",
   "metadata": {
    "tags": []
   },
   "outputs": [
    {
     "data": {
      "text/plain": [
       "(2, 2, 5)"
      ]
     },
     "execution_count": 66,
     "metadata": {},
     "output_type": "execute_result"
    }
   ],
   "source": [
    "x.shape"
   ]
  },
  {
   "cell_type": "code",
   "execution_count": 67,
   "id": "778644da-489f-4002-a380-37d1020f9dc6",
   "metadata": {
    "tags": []
   },
   "outputs": [
    {
     "data": {
      "text/plain": [
       "3"
      ]
     },
     "execution_count": 67,
     "metadata": {},
     "output_type": "execute_result"
    }
   ],
   "source": [
    "x.ndim"
   ]
  },
  {
   "cell_type": "code",
   "execution_count": 68,
   "id": "fbfd77f5-378e-40aa-99f8-0ed09c75a5b8",
   "metadata": {
    "tags": []
   },
   "outputs": [
    {
     "data": {
      "text/plain": [
       "90"
      ]
     },
     "execution_count": 68,
     "metadata": {},
     "output_type": "execute_result"
    }
   ],
   "source": [
    "x[0,1,3]"
   ]
  },
  {
   "cell_type": "code",
   "execution_count": 69,
   "id": "4d26463d-ead5-461d-b1b4-275140fe0682",
   "metadata": {
    "tags": []
   },
   "outputs": [
    {
     "data": {
      "text/plain": [
       "1000"
      ]
     },
     "execution_count": 69,
     "metadata": {},
     "output_type": "execute_result"
    }
   ],
   "source": [
    "x[1,1,4]"
   ]
  },
  {
   "cell_type": "code",
   "execution_count": 70,
   "id": "93a412af-2cd4-4a24-8f71-e03b90a497b1",
   "metadata": {
    "tags": []
   },
   "outputs": [],
   "source": [
    "### 2.2 - Operaciones con Vectores"
   ]
  },
  {
   "cell_type": "code",
   "execution_count": 71,
   "id": "b930cf84-f57a-4372-bf42-b900c27e7b3c",
   "metadata": {
    "tags": []
   },
   "outputs": [],
   "source": [
    "v = np.arange(1,6,1)\n",
    "w = np.arange(6,11,1)"
   ]
  },
  {
   "cell_type": "code",
   "execution_count": 72,
   "id": "92444e67-812e-49b8-b80d-057e0681fb88",
   "metadata": {
    "tags": []
   },
   "outputs": [
    {
     "name": "stdout",
     "output_type": "stream",
     "text": [
      "[ 7  9 11 13 15]\n",
      "[-5 -5 -5 -5 -5]\n",
      "[ 6 14 24 36 50]\n",
      "[0.16666667 0.28571429 0.375      0.44444444 0.5       ]\n"
     ]
    }
   ],
   "source": [
    "print(v+  w)\n",
    "print(v - w)\n",
    "print(v*w)\n",
    "print(v/w)"
   ]
  },
  {
   "cell_type": "code",
   "execution_count": 73,
   "id": "2e5b37df-489a-4b09-86f0-f77951e70d61",
   "metadata": {
    "tags": []
   },
   "outputs": [
    {
     "data": {
      "text/plain": [
       "array([ 2,  4,  6,  8, 10])"
      ]
     },
     "execution_count": 73,
     "metadata": {},
     "output_type": "execute_result"
    }
   ],
   "source": [
    "#Broadcasting. \n",
    "v*2"
   ]
  },
  {
   "cell_type": "code",
   "execution_count": 74,
   "id": "b4ff386b-62f2-4a7a-9177-e38e699bfe67",
   "metadata": {
    "tags": []
   },
   "outputs": [
    {
     "name": "stdout",
     "output_type": "stream",
     "text": [
      "[0.5 1.  1.5 2.  2.5]\n",
      "[ 6  7  8  9 10]\n",
      "[-9 -8 -7 -6 -5]\n",
      "[1 0 1 0 1]\n"
     ]
    }
   ],
   "source": [
    "print(v/2)\n",
    "print(v + 5)\n",
    "print(v - 10)\n",
    "print(v % 2)"
   ]
  },
  {
   "cell_type": "code",
   "execution_count": null,
   "id": "b401354c-bac3-44cb-8c39-a449e9ec1c11",
   "metadata": {
    "tags": []
   },
   "outputs": [],
   "source": [
    "# en listas normales d epython, no se puede hacer broadcasting\n",
    "x = [1,2,3]\n",
    "x+2"
   ]
  },
  {
   "cell_type": "markdown",
   "id": "77791020-d629-47ff-ac4c-89af5f8beb44",
   "metadata": {
    "tags": []
   },
   "source": [
    "### 2.4 - Funciones Universlaes"
   ]
  },
  {
   "cell_type": "code",
   "execution_count": 76,
   "id": "93ad3731-99ed-4e5e-b4f0-3d6107967f55",
   "metadata": {
    "tags": []
   },
   "outputs": [
    {
     "data": {
      "text/plain": [
       "array([-2, -1,  0,  1,  1,  3,  6])"
      ]
     },
     "execution_count": 76,
     "metadata": {},
     "output_type": "execute_result"
    }
   ],
   "source": [
    "x = np.array([-2,-1,0,1,1,3,6])\n",
    "x"
   ]
  },
  {
   "cell_type": "code",
   "execution_count": 77,
   "id": "e73fbd95-2516-4515-99aa-21651ada1b58",
   "metadata": {
    "tags": []
   },
   "outputs": [
    {
     "name": "stdout",
     "output_type": "stream",
     "text": [
      "[-1 -1  0  1  1  1  1]\n",
      "[2 1 0 1 1 3 6]\n",
      "[-0.41614684  0.54030231  1.          0.54030231  0.54030231 -0.9899925\n",
      "  0.96017029]\n",
      "[-0.90929743 -0.84147098  0.          0.84147098  0.84147098  0.14112001\n",
      " -0.2794155 ]\n",
      "[1.35335283e-01 3.67879441e-01 1.00000000e+00 2.71828183e+00\n",
      " 2.71828183e+00 2.00855369e+01 4.03428793e+02]\n",
      "[       nan        nan       -inf 0.         0.         1.09861229\n",
      " 1.79175947]\n",
      "[       nan        nan 0.         1.         1.         1.73205081\n",
      " 2.44948974]\n"
     ]
    },
    {
     "name": "stderr",
     "output_type": "stream",
     "text": [
      "C:\\Users\\joshp\\AppData\\Local\\Temp\\ipykernel_29052\\388054511.py:6: RuntimeWarning: divide by zero encountered in log\n",
      "  print(np.log(x))\n",
      "C:\\Users\\joshp\\AppData\\Local\\Temp\\ipykernel_29052\\388054511.py:6: RuntimeWarning: invalid value encountered in log\n",
      "  print(np.log(x))\n",
      "C:\\Users\\joshp\\AppData\\Local\\Temp\\ipykernel_29052\\388054511.py:7: RuntimeWarning: invalid value encountered in sqrt\n",
      "  print(np.sqrt(x))\n"
     ]
    }
   ],
   "source": [
    "print(np.sign(x))\n",
    "print(np.abs(x))\n",
    "print(np.cos(x))\n",
    "print(np.sin(x))\n",
    "print(np.exp(x))\n",
    "print(np.log(x))\n",
    "print(np.sqrt(x))"
   ]
  },
  {
   "cell_type": "code",
   "execution_count": 78,
   "id": "ca06e6cf-a548-4dd6-8722-5a498b4ec579",
   "metadata": {
    "tags": []
   },
   "outputs": [],
   "source": [
    "x = np.array([1,2,3,4,5,6,7,8,9,2,2])\n",
    "x_nan = np.array([1,2,3,4,np.nan,6,8,10,np.nan])"
   ]
  },
  {
   "cell_type": "code",
   "execution_count": 79,
   "id": "81dc4af6-7d4b-4f02-84ad-961cc683b01f",
   "metadata": {
    "tags": []
   },
   "outputs": [
    {
     "data": {
      "text/plain": [
       "4.454545454545454"
      ]
     },
     "execution_count": 79,
     "metadata": {},
     "output_type": "execute_result"
    }
   ],
   "source": [
    "np.mean(x)"
   ]
  },
  {
   "cell_type": "code",
   "execution_count": 80,
   "id": "ff81adee-f2e2-48d8-be55-03a1214f0e24",
   "metadata": {
    "tags": []
   },
   "outputs": [
    {
     "data": {
      "text/plain": [
       "4.857142857142857"
      ]
     },
     "execution_count": 80,
     "metadata": {},
     "output_type": "execute_result"
    }
   ],
   "source": [
    "np.nanmean(x_nan)"
   ]
  },
  {
   "cell_type": "code",
   "execution_count": 81,
   "id": "681d75fe-2779-4754-8694-100e3a95d991",
   "metadata": {
    "tags": []
   },
   "outputs": [
    {
     "name": "stdout",
     "output_type": "stream",
     "text": [
      "9\n",
      "10.0\n"
     ]
    }
   ],
   "source": [
    "print(np.max(x))\n",
    "print(np.nanmax(x_nan))"
   ]
  },
  {
   "cell_type": "code",
   "execution_count": 82,
   "id": "39c52526-546b-4d8e-974d-9dedd68d6695",
   "metadata": {
    "tags": []
   },
   "outputs": [
    {
     "name": "stdout",
     "output_type": "stream",
     "text": [
      "1\n",
      "1.0\n"
     ]
    }
   ],
   "source": [
    "print(np.min(x))\n",
    "print(np.nanmin(x_nan))"
   ]
  },
  {
   "cell_type": "code",
   "execution_count": 83,
   "id": "92c2d178-a3be-4b10-8dbc-02d1099d1fcb",
   "metadata": {
    "tags": []
   },
   "outputs": [
    {
     "name": "stdout",
     "output_type": "stream",
     "text": [
      "6.793388429752068\n",
      "9.26530612244898\n"
     ]
    }
   ],
   "source": [
    "print(np.var(x))\n",
    "print(np.nanvar(x_nan))"
   ]
  },
  {
   "cell_type": "code",
   "execution_count": 84,
   "id": "5d8daee6-c825-4bb4-9e43-008168a3d262",
   "metadata": {
    "tags": []
   },
   "outputs": [
    {
     "name": "stdout",
     "output_type": "stream",
     "text": [
      "2.6064129430602643\n",
      "3.0438965360946453\n"
     ]
    }
   ],
   "source": [
    "print(np.std(x))\n",
    "print(np.nanstd(x_nan))"
   ]
  },
  {
   "cell_type": "code",
   "execution_count": 85,
   "id": "f630435a-953a-4877-ba66-0849a53db9b8",
   "metadata": {},
   "outputs": [
    {
     "name": "stdout",
     "output_type": "stream",
     "text": [
      "1451520\n",
      "11520.0\n"
     ]
    }
   ],
   "source": [
    "print(np.prod(x))\n",
    "print(np.nanprod(x_nan))"
   ]
  },
  {
   "cell_type": "code",
   "execution_count": 86,
   "id": "36198455-444f-4c2d-bc6f-ed5bab3a63e3",
   "metadata": {
    "tags": []
   },
   "outputs": [
    {
     "name": "stdout",
     "output_type": "stream",
     "text": [
      "8\n",
      "7\n"
     ]
    }
   ],
   "source": [
    "print(np.argmax(x))\n",
    "print(np.nanargmax(x_nan))"
   ]
  },
  {
   "cell_type": "code",
   "execution_count": 87,
   "id": "61380402-b5d0-4869-ba2f-6556cffaf568",
   "metadata": {
    "tags": []
   },
   "outputs": [
    {
     "name": "stdout",
     "output_type": "stream",
     "text": [
      "0\n",
      "0\n"
     ]
    }
   ],
   "source": [
    "print(np.argmin(x))\n",
    "print(np.nanargmin(x_nan))"
   ]
  },
  {
   "cell_type": "code",
   "execution_count": 88,
   "id": "be9b7f9b-7863-4c8c-8bad-1c78a4b06a48",
   "metadata": {
    "tags": []
   },
   "outputs": [
    {
     "name": "stdout",
     "output_type": "stream",
     "text": [
      "4.0\n",
      "4.0\n"
     ]
    }
   ],
   "source": [
    "print(np.median(x))\n",
    "print(np.nanmedian(x_nan))"
   ]
  }
 ],
 "metadata": {
  "kernelspec": {
   "display_name": "Python 3 (ipykernel)",
   "language": "python",
   "name": "python3"
  },
  "language_info": {
   "codemirror_mode": {
    "name": "ipython",
    "version": 3
   },
   "file_extension": ".py",
   "mimetype": "text/x-python",
   "name": "python",
   "nbconvert_exporter": "python",
   "pygments_lexer": "ipython3",
   "version": "3.11.5"
  }
 },
 "nbformat": 4,
 "nbformat_minor": 5
}
