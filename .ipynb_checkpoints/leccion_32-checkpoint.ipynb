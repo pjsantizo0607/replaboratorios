{
 "cells": [
  {
   "cell_type": "markdown",
   "id": "34a4db94-c58b-4ffe-bd4a-d1d0779c611f",
   "metadata": {},
   "source": [
    "## Notebook de la sesión 3\n",
    "**Nombre:** Pablo Santizo\\\n",
    "**Carné:** 24000134\\\n",
    "**Curso** Ciencia de Datos en Python\\\n",
    "**Maestría:** Data Science\\\n",
    "**Universidad:** Galileo, Instituto en Investigación de Operaciones"
   ]
  },
  {
   "cell_type": "markdown",
   "id": "92b9a3af-8662-4893-97ab-330d332c5ea4",
   "metadata": {
    "tags": []
   },
   "source": [
    "## 1.Funciones"
   ]
  },
  {
   "cell_type": "markdown",
   "id": "db93c227-c8f8-43cf-8121-c6a8b967b451",
   "metadata": {},
   "source": [
    "1. Las funciones deben reprocesarse si se realiza algún cambio en el código si estamos en notebooks.\n",
    "2. Los errores de cualquier tipo se presentan al corrrer la función no al procesarla."
   ]
  },
  {
   "cell_type": "code",
   "execution_count": 1,
   "id": "1a3438c3",
   "metadata": {
    "tags": []
   },
   "outputs": [],
   "source": [
    "def saludo():\n",
    "    print(\"Hola a todos\")"
   ]
  },
  {
   "cell_type": "code",
   "execution_count": 2,
   "id": "3d882183-b9c9-4179-a2f4-64fbc38d283d",
   "metadata": {
    "tags": []
   },
   "outputs": [
    {
     "name": "stdout",
     "output_type": "stream",
     "text": [
      "Hola a todos\n"
     ]
    }
   ],
   "source": [
    "saludo()"
   ]
  },
  {
   "cell_type": "code",
   "execution_count": 3,
   "id": "537f175f-bb83-40dd-9fe0-e0434e7c0df3",
   "metadata": {
    "tags": []
   },
   "outputs": [],
   "source": [
    "def saludar_nombre(nombre, edad, profesion):\n",
    "    print(\"Hola \" + nombre + \" tienes \" + str(edad) + \" eres \" + profesion)"
   ]
  },
  {
   "cell_type": "code",
   "execution_count": 4,
   "id": "03e9d0ab-6a8f-4557-b878-d671c42503c8",
   "metadata": {
    "tags": []
   },
   "outputs": [
    {
     "name": "stdout",
     "output_type": "stream",
     "text": [
      "Hola Preng tienes 32 eres ingeniero\n"
     ]
    }
   ],
   "source": [
    "saludar_nombre(\"Preng\",32,\"ingeniero\")"
   ]
  },
  {
   "cell_type": "markdown",
   "id": "d115d9e7-d61d-464d-b344-c064345283e8",
   "metadata": {
    "tags": []
   },
   "source": [
    "1. Los parámetros con valores default deben estar despúes de los parámetros no default.\n",
    "2. Se pueden declarar parámetros default con el valor de tipo None (Null)"
   ]
  },
  {
   "cell_type": "code",
   "execution_count": 5,
   "id": "96d3aada-06b9-4405-81c8-7923410835d7",
   "metadata": {
    "tags": []
   },
   "outputs": [],
   "source": [
    "def saludar_nombre(nombre, edad, profesion,pais=\"Guatemala\",ciudad='GT'):\n",
    "    print(\"Hola \" + nombre + \" tienes \" + str(edad) + \" eres \" + profesion + \" y eres de \" + pais + \" y vives en \" +str(ciudad))"
   ]
  },
  {
   "cell_type": "code",
   "execution_count": 6,
   "id": "c52a555d-f7b2-48a6-9786-22c14a66b672",
   "metadata": {
    "tags": []
   },
   "outputs": [
    {
     "name": "stdout",
     "output_type": "stream",
     "text": [
      "Hola Preng tienes 32 eres ingeniero y eres de Guatemala y vives en GT\n"
     ]
    }
   ],
   "source": [
    "saludar_nombre(\"Preng\",32,\"ingeniero\")"
   ]
  },
  {
   "cell_type": "code",
   "execution_count": 7,
   "id": "29049d7b-a14c-4589-92e4-dc473080176f",
   "metadata": {
    "tags": []
   },
   "outputs": [],
   "source": [
    "def suma(a,b):\n",
    "    print(\"Suma simple\")\n",
    "    return a + b"
   ]
  },
  {
   "cell_type": "code",
   "execution_count": 144,
   "id": "52ff4789-2483-461f-bd87-837f3186389d",
   "metadata": {
    "tags": []
   },
   "outputs": [],
   "source": [
    "def sumar(a:int,b:int) -> int:\n",
    "    if (not isinstance(a,int)) or (not isinstance(b,int)):\n",
    "        print(\"Error\")\n",
    "    else:\n",
    "        return a / b"
   ]
  },
  {
   "cell_type": "code",
   "execution_count": 145,
   "id": "d66a206b-359d-401e-9896-dd7bed061f1d",
   "metadata": {
    "tags": []
   },
   "outputs": [
    {
     "data": {
      "text/plain": [
       "0.5"
      ]
     },
     "execution_count": 145,
     "metadata": {},
     "output_type": "execute_result"
    }
   ],
   "source": [
    "sumar(25,50)"
   ]
  },
  {
   "cell_type": "code",
   "execution_count": 146,
   "id": "cb0c7e7d-7fec-43fc-8db2-741711efdd75",
   "metadata": {
    "tags": []
   },
   "outputs": [
    {
     "name": "stdout",
     "output_type": "stream",
     "text": [
      "Error\n"
     ]
    }
   ],
   "source": [
    "sumar(25,\"Hola\")"
   ]
  },
  {
   "cell_type": "code",
   "execution_count": 147,
   "id": "fa05f5f0-5b93-43c4-b897-30bd48d20326",
   "metadata": {
    "tags": []
   },
   "outputs": [],
   "source": [
    "def operar(a, b):\n",
    "    suma = a + b\n",
    "    resta = a-  b\n",
    "    division = a / b\n",
    "    multiplic = a*b\n",
    "\n",
    "    return suma, resta, division, multiplic"
   ]
  },
  {
   "cell_type": "code",
   "execution_count": 148,
   "id": "e578e501-9b19-4f8f-abae-088e606d9682",
   "metadata": {
    "tags": []
   },
   "outputs": [],
   "source": [
    "sum, rest, div, mul = operar(5,8)"
   ]
  },
  {
   "cell_type": "code",
   "execution_count": 149,
   "id": "6071e5d8-e8cc-4ae3-b44f-8baab111a2d4",
   "metadata": {
    "tags": []
   },
   "outputs": [
    {
     "data": {
      "text/plain": [
       "(13, -3, 0.625, 40)"
      ]
     },
     "execution_count": 149,
     "metadata": {},
     "output_type": "execute_result"
    }
   ],
   "source": [
    "sum, rest, div, mul #se cambio el orden del notebook para que los resultados fueran igual a los presentados en clase"
   ]
  },
  {
   "cell_type": "code",
   "execution_count": 150,
   "id": "4c5db9a9-28d4-40e7-ad72-300bb2ce53c8",
   "metadata": {
    "tags": []
   },
   "outputs": [],
   "source": [
    "sum2,_, _,mul2= operar(10,20) #esta celda fue borrada, pero es necesaria para correr mul2 más adelante"
   ]
  },
  {
   "cell_type": "code",
   "execution_count": 151,
   "id": "14c85dad-abb9-4698-a002-e00e072a6c4e",
   "metadata": {
    "tags": []
   },
   "outputs": [
    {
     "data": {
      "text/plain": [
       "(30, 200)"
      ]
     },
     "execution_count": 151,
     "metadata": {},
     "output_type": "execute_result"
    }
   ],
   "source": [
    "sum2,mul2"
   ]
  },
  {
   "cell_type": "code",
   "execution_count": 152,
   "id": "e6c5bf1f-2a99-4dd6-9c84-3d2ff4ebb1b0",
   "metadata": {
    "tags": []
   },
   "outputs": [],
   "source": [
    "sum2,_, _,_ = operar(10,20) #se cambio el orden del notebook para que los resultados fueran igual a los presentados en clase"
   ]
  },
  {
   "cell_type": "code",
   "execution_count": 153,
   "id": "971d9d15-a595-4dc8-a7fd-314ccd9033b4",
   "metadata": {
    "tags": []
   },
   "outputs": [
    {
     "data": {
      "text/plain": [
       "200"
      ]
     },
     "execution_count": 153,
     "metadata": {},
     "output_type": "execute_result"
    }
   ],
   "source": [
    "_"
   ]
  },
  {
   "cell_type": "markdown",
   "id": "7c260cfa-1bbf-4e07-be60-1854bcc42420",
   "metadata": {
    "tags": []
   },
   "source": [
    "## 2.Lista"
   ]
  },
  {
   "cell_type": "markdown",
   "id": "18cb41bc-c3af-475f-a8d2-d95247cb117d",
   "metadata": {},
   "source": [
    "1. Indexables.\n",
    "2. Dinámicas.\n",
    "3. No son del mismo tipo de dato.\n"
   ]
  },
  {
   "cell_type": "code",
   "execution_count": 154,
   "id": "999a2023-216e-4abf-bd24-f3da8161477e",
   "metadata": {
    "tags": []
   },
   "outputs": [
    {
     "data": {
      "text/plain": [
       "[10, 20, 30, 40, 50, 'Galileo']"
      ]
     },
     "execution_count": 154,
     "metadata": {},
     "output_type": "execute_result"
    }
   ],
   "source": [
    "lista = [10, 20, 30, 40, 50, \"Galileo\"]\n",
    "lista"
   ]
  },
  {
   "cell_type": "code",
   "execution_count": 155,
   "id": "3727b35a-1b35-41b5-8efa-7fdcbcec7930",
   "metadata": {
    "tags": []
   },
   "outputs": [
    {
     "data": {
      "text/plain": [
       "6"
      ]
     },
     "execution_count": 155,
     "metadata": {},
     "output_type": "execute_result"
    }
   ],
   "source": [
    "len(lista)"
   ]
  },
  {
   "cell_type": "code",
   "execution_count": 156,
   "id": "59a6137b-49b2-40b5-8282-9aecd69a0ffa",
   "metadata": {
    "tags": []
   },
   "outputs": [
    {
     "data": {
      "text/plain": [
       "'Galileo'"
      ]
     },
     "execution_count": 156,
     "metadata": {},
     "output_type": "execute_result"
    }
   ],
   "source": [
    "lista[-1]"
   ]
  },
  {
   "cell_type": "code",
   "execution_count": 157,
   "id": "385a4481-5796-4e4e-adcf-a7381bf53346",
   "metadata": {
    "tags": []
   },
   "outputs": [],
   "source": [
    "lista.append(60)"
   ]
  },
  {
   "cell_type": "code",
   "execution_count": 158,
   "id": "8e01e34e-ee54-45e2-8457-89d3eac0788d",
   "metadata": {
    "tags": []
   },
   "outputs": [
    {
     "data": {
      "text/plain": [
       "[10, 20, 30, 40, 50, 'Galileo', 60]"
      ]
     },
     "execution_count": 158,
     "metadata": {},
     "output_type": "execute_result"
    }
   ],
   "source": [
    "lista"
   ]
  },
  {
   "cell_type": "code",
   "execution_count": 159,
   "id": "3d386dfd-d8a0-422e-b9f9-cf148dabfbe5",
   "metadata": {
    "tags": []
   },
   "outputs": [],
   "source": [
    "lista.insert(2,'IIO')"
   ]
  },
  {
   "cell_type": "code",
   "execution_count": 160,
   "id": "ea239a75-253a-4d91-8a2a-ce5749f8c885",
   "metadata": {
    "tags": []
   },
   "outputs": [
    {
     "data": {
      "text/plain": [
       "[10, 20, 'IIO', 30, 40, 50, 'Galileo', 60]"
      ]
     },
     "execution_count": 160,
     "metadata": {},
     "output_type": "execute_result"
    }
   ],
   "source": [
    "lista"
   ]
  },
  {
   "cell_type": "code",
   "execution_count": 161,
   "id": "0e2b38d6-5f16-47f3-9b46-5a7d004e7702",
   "metadata": {
    "tags": []
   },
   "outputs": [
    {
     "name": "stdout",
     "output_type": "stream",
     "text": [
      "20\n"
     ]
    }
   ],
   "source": [
    "a = lista.pop(1)\n",
    "print(a)"
   ]
  },
  {
   "cell_type": "code",
   "execution_count": 162,
   "id": "6b56fc1e-957d-4165-ac42-e15f897c5be0",
   "metadata": {
    "tags": []
   },
   "outputs": [
    {
     "data": {
      "text/plain": [
       "[10, 'IIO', 30, 40, 50, 'Galileo', 60]"
      ]
     },
     "execution_count": 162,
     "metadata": {},
     "output_type": "execute_result"
    }
   ],
   "source": [
    "lista"
   ]
  },
  {
   "cell_type": "code",
   "execution_count": 163,
   "id": "b5eb4920-89de-4081-80b3-007c7a3cc971",
   "metadata": {
    "tags": []
   },
   "outputs": [],
   "source": [
    "lista.remove(60)"
   ]
  },
  {
   "cell_type": "code",
   "execution_count": 164,
   "id": "4c362cac-c3c8-48c4-8056-fdd44a3fb388",
   "metadata": {
    "tags": []
   },
   "outputs": [
    {
     "data": {
      "text/plain": [
       "[10, 'IIO', 30, 40, 50, 'Galileo']"
      ]
     },
     "execution_count": 164,
     "metadata": {},
     "output_type": "execute_result"
    }
   ],
   "source": [
    "lista"
   ]
  },
  {
   "cell_type": "code",
   "execution_count": null,
   "id": "cb672ce4-8413-4ac5-a3b1-010588724fd9",
   "metadata": {
    "tags": []
   },
   "outputs": [],
   "source": [
    "lista.remove(80)"
   ]
  },
  {
   "cell_type": "code",
   "execution_count": 166,
   "id": "2b0822db-32a1-41f4-893c-89e1ab72497d",
   "metadata": {
    "tags": []
   },
   "outputs": [
    {
     "data": {
      "text/plain": [
       "[20, 60, 60]"
      ]
     },
     "execution_count": 166,
     "metadata": {},
     "output_type": "execute_result"
    }
   ],
   "source": [
    "list1 = [60,20,60,60]\n",
    "list1.remove(60)\n",
    "list1"
   ]
  },
  {
   "cell_type": "markdown",
   "id": "a39b4291-e66c-4d54-bb32-66cd9ea61b48",
   "metadata": {},
   "source": [
    "**in** busca elementos dentro de una estructura indexable funciona mejor que una busqueda directa con ciclos."
   ]
  },
  {
   "cell_type": "code",
   "execution_count": 167,
   "id": "68089ff8-9916-4c24-94f1-147c2ab2f7d4",
   "metadata": {
    "tags": []
   },
   "outputs": [
    {
     "name": "stdout",
     "output_type": "stream",
     "text": [
      "eliminando un 60\n",
      "eliminando un 60\n",
      "eliminando un 60\n"
     ]
    },
    {
     "data": {
      "text/plain": [
       "[20]"
      ]
     },
     "execution_count": 167,
     "metadata": {},
     "output_type": "execute_result"
    }
   ],
   "source": [
    "list1 = [60,20,60,60]\n",
    "while (60 in list1):\n",
    "    print(\"eliminando un 60\")\n",
    "    list1.remove(60)\n",
    "\n",
    "list1 ### existe swtich case desde versión 3.10"
   ]
  },
  {
   "cell_type": "code",
   "execution_count": 168,
   "id": "c791c9bd-bc46-4c67-9cd6-e9c9e8e69f05",
   "metadata": {
    "tags": []
   },
   "outputs": [
    {
     "data": {
      "text/plain": [
       "[10, 'IIO', 30, 50, 'Galileo']"
      ]
     },
     "execution_count": 168,
     "metadata": {},
     "output_type": "execute_result"
    }
   ],
   "source": [
    "del lista[3]\n",
    "lista"
   ]
  },
  {
   "cell_type": "code",
   "execution_count": 169,
   "id": "f4c37153-97aa-4733-ac26-ab120a0afb60",
   "metadata": {
    "tags": []
   },
   "outputs": [
    {
     "data": {
      "text/plain": [
       "['IIO', 30, 50]"
      ]
     },
     "execution_count": 169,
     "metadata": {},
     "output_type": "execute_result"
    }
   ],
   "source": [
    "lista[1:4] # no incluimos el limite superior"
   ]
  },
  {
   "cell_type": "code",
   "execution_count": 170,
   "id": "542c373c-03c1-4237-945b-556bdadb5e18",
   "metadata": {
    "tags": []
   },
   "outputs": [
    {
     "data": {
      "text/plain": [
       "['IIO', 50]"
      ]
     },
     "execution_count": 170,
     "metadata": {},
     "output_type": "execute_result"
    }
   ],
   "source": [
    "lista[1:6:2] #definir step, sino se define supone que es uno"
   ]
  },
  {
   "cell_type": "code",
   "execution_count": 171,
   "id": "fec15bed-ae95-43f4-aa51-db85022eef86",
   "metadata": {
    "tags": []
   },
   "outputs": [
    {
     "data": {
      "text/plain": [
       "['Galileo', 50, 30, 'IIO', 10]"
      ]
     },
     "execution_count": 171,
     "metadata": {},
     "output_type": "execute_result"
    }
   ],
   "source": [
    "lista[::-1] #volteamos una lista"
   ]
  },
  {
   "cell_type": "code",
   "execution_count": 172,
   "id": "a51f9fb5-e84e-4109-af91-d62dfc1f4bc1",
   "metadata": {
    "tags": []
   },
   "outputs": [
    {
     "data": {
      "text/plain": [
       "[30, 50, 80, 80, 10, 20, 100]"
      ]
     },
     "execution_count": 172,
     "metadata": {},
     "output_type": "execute_result"
    }
   ],
   "source": [
    "lista = [30, 50, 80, 80,10, 20, 100]\n",
    "lista"
   ]
  },
  {
   "cell_type": "code",
   "execution_count": 173,
   "id": "43438774-e228-42dd-80ee-cd1f8cd80af6",
   "metadata": {
    "tags": []
   },
   "outputs": [
    {
     "data": {
      "text/plain": [
       "[10, 20, 30, 50, 80, 80, 100]"
      ]
     },
     "execution_count": 173,
     "metadata": {},
     "output_type": "execute_result"
    }
   ],
   "source": [
    "lista.sort()\n",
    "lista"
   ]
  },
  {
   "cell_type": "code",
   "execution_count": 174,
   "id": "74ff4a52-6d3f-4640-a5b8-cd2b63440576",
   "metadata": {
    "tags": []
   },
   "outputs": [
    {
     "data": {
      "text/plain": [
       "[100, 80, 80, 50, 30, 20, 10]"
      ]
     },
     "execution_count": 174,
     "metadata": {},
     "output_type": "execute_result"
    }
   ],
   "source": [
    "lista.sort(reverse=True)\n",
    "lista"
   ]
  },
  {
   "cell_type": "code",
   "execution_count": 175,
   "id": "6ab98513-b227-432e-ae3a-1544546d0225",
   "metadata": {
    "tags": []
   },
   "outputs": [
    {
     "data": {
      "text/plain": [
       "[10, 20, 30, 50, 80, 80, 100]"
      ]
     },
     "execution_count": 175,
     "metadata": {},
     "output_type": "execute_result"
    }
   ],
   "source": [
    "lista.reverse()\n",
    "lista"
   ]
  },
  {
   "cell_type": "code",
   "execution_count": 176,
   "id": "e95a94ab-f9e2-4570-b7e6-be3856e566f1",
   "metadata": {
    "tags": []
   },
   "outputs": [
    {
     "data": {
      "text/plain": [
       "3"
      ]
     },
     "execution_count": 176,
     "metadata": {},
     "output_type": "execute_result"
    }
   ],
   "source": [
    "lista.index(50) #indice del valor 50"
   ]
  },
  {
   "cell_type": "code",
   "execution_count": 177,
   "id": "a432bb2a-0d77-427f-acf4-47f04369570b",
   "metadata": {
    "tags": []
   },
   "outputs": [
    {
     "data": {
      "text/plain": [
       "2"
      ]
     },
     "execution_count": 177,
     "metadata": {},
     "output_type": "execute_result"
    }
   ],
   "source": [
    "lista.count(80)"
   ]
  },
  {
   "cell_type": "markdown",
   "id": "073fd986-55b6-418f-9d33-b95467b7407c",
   "metadata": {
    "tags": []
   },
   "source": [
    "## 3.Ciclo For"
   ]
  },
  {
   "cell_type": "markdown",
   "id": "408b7fe4-f7d0-4ae8-9288-1416343d83dd",
   "metadata": {},
   "source": [
    "JAVA\\\n",
    "\\\n",
    "for(int i= 0; i !=10; i++){\n",
    "    \n",
    "}"
   ]
  },
  {
   "cell_type": "code",
   "execution_count": 178,
   "id": "4385e582-b38b-4578-b734-be779f3a055a",
   "metadata": {
    "tags": []
   },
   "outputs": [
    {
     "name": "stdout",
     "output_type": "stream",
     "text": [
      "50\n",
      "20\n",
      "30\n",
      "80\n",
      "90\n",
      "120\n"
     ]
    }
   ],
   "source": [
    "lista = [50, 20, 30, 80, 90, 120]\n",
    "for valor in lista:\n",
    "    print(valor)"
   ]
  },
  {
   "cell_type": "code",
   "execution_count": 179,
   "id": "bdc34530-4c80-4b5d-9a61-c407ffde54b1",
   "metadata": {
    "tags": []
   },
   "outputs": [
    {
     "name": "stdout",
     "output_type": "stream",
     "text": [
      "0\n",
      "100\n",
      "200\n",
      "300\n",
      "400\n",
      "500\n"
     ]
    }
   ],
   "source": [
    "for i in range(0,501,100): # es un for each\n",
    "    print(i)"
   ]
  },
  {
   "cell_type": "code",
   "execution_count": 180,
   "id": "3027f23e-8f3d-43e6-8566-f29fac4a6d51",
   "metadata": {
    "tags": []
   },
   "outputs": [
    {
     "data": {
      "text/plain": [
       "[0, 1, 2, 3, 4, 5, 6, 7, 8, 9]"
      ]
     },
     "execution_count": 180,
     "metadata": {},
     "output_type": "execute_result"
    }
   ],
   "source": [
    "list(range(10))"
   ]
  },
  {
   "cell_type": "code",
   "execution_count": 181,
   "id": "850985fa-9e65-490a-9f35-977717e6db84",
   "metadata": {
    "tags": []
   },
   "outputs": [
    {
     "name": "stdout",
     "output_type": "stream",
     "text": [
      "El valor del indice 0\n",
      "El valor del indice 1\n",
      "El valor del indice 2\n",
      "El valor del indice 3\n",
      "El valor del indice 4\n",
      "El valor del indice 5\n"
     ]
    }
   ],
   "source": [
    "for index, _ in enumerate(lista): #enumerate devuelve el indice y el valor\n",
    "    print(f\"El valor del indice {index}\")"
   ]
  },
  {
   "cell_type": "code",
   "execution_count": 182,
   "id": "14500f6f-5e9d-4c18-ba9a-18d5fadf56ae",
   "metadata": {
    "tags": []
   },
   "outputs": [],
   "source": [
    "for index, valor in enumerate(lista):\n",
    "    lista[index] = valor**2"
   ]
  },
  {
   "cell_type": "code",
   "execution_count": 183,
   "id": "14b076f8-fb45-410d-93c6-33916cdc2a01",
   "metadata": {
    "tags": []
   },
   "outputs": [
    {
     "data": {
      "text/plain": [
       "[2500, 400, 900, 6400, 8100, 14400]"
      ]
     },
     "execution_count": 183,
     "metadata": {},
     "output_type": "execute_result"
    }
   ],
   "source": [
    "lista"
   ]
  },
  {
   "cell_type": "markdown",
   "id": "6d0ecdd3-605c-45ee-87ca-c3de8f0996f7",
   "metadata": {},
   "source": [
    "## 3.1 Comprehensions"
   ]
  },
  {
   "cell_type": "code",
   "execution_count": 184,
   "id": "352a54c3-0f71-425c-b177-c1e01183bf3b",
   "metadata": {
    "tags": []
   },
   "outputs": [],
   "source": [
    "letras = [\"a\", \"b\", \"c\", \"d\", \"f\", \"g\"]\n",
    "mayusculas = []\n",
    "\n",
    "for valor in letras:  \n",
    "    mayusculas.append(valor.upper())"
   ]
  },
  {
   "cell_type": "code",
   "execution_count": 185,
   "id": "2a3cc5b7-ceb6-492a-aa02-30983a7017fd",
   "metadata": {
    "tags": []
   },
   "outputs": [
    {
     "data": {
      "text/plain": [
       "['A', 'B', 'C', 'D', 'F', 'G']"
      ]
     },
     "execution_count": 185,
     "metadata": {},
     "output_type": "execute_result"
    }
   ],
   "source": [
    "mayusculas"
   ]
  },
  {
   "cell_type": "code",
   "execution_count": 186,
   "id": "81fd1a0b-d578-4299-a975-6264dd7a286b",
   "metadata": {
    "tags": []
   },
   "outputs": [
    {
     "data": {
      "text/plain": [
       "['A', 'B', 'C', 'D', 'F', 'G']"
      ]
     },
     "execution_count": 186,
     "metadata": {},
     "output_type": "execute_result"
    }
   ],
   "source": [
    "mayuscula = [valor.upper() for valor in letras]\n",
    "mayuscula"
   ]
  },
  {
   "cell_type": "code",
   "execution_count": 187,
   "id": "61ac0fb4-7551-49e9-835e-c726d0eb693c",
   "metadata": {
    "tags": []
   },
   "outputs": [
    {
     "data": {
      "text/plain": [
       "['a', 'b', 'c', 'd', 'f', 'g']"
      ]
     },
     "execution_count": 187,
     "metadata": {},
     "output_type": "execute_result"
    }
   ],
   "source": [
    "letras"
   ]
  },
  {
   "cell_type": "code",
   "execution_count": 190,
   "id": "5d8aaa5d-4c19-48c9-9906-4d6832a4ddb9",
   "metadata": {
    "tags": []
   },
   "outputs": [],
   "source": [
    "import math\n",
    "def exp_neg(x):\n",
    "    return round(math.e**-x,5)"
   ]
  },
  {
   "cell_type": "code",
   "execution_count": 191,
   "id": "1bb8434c-fb9e-4861-91a7-47e7ccad4785",
   "metadata": {
    "tags": []
   },
   "outputs": [
    {
     "data": {
      "text/plain": [
       "[0, 1, 2, 3, 4, 5]"
      ]
     },
     "execution_count": 191,
     "metadata": {},
     "output_type": "execute_result"
    }
   ],
   "source": [
    "lista = list(range(6))\n",
    "lista"
   ]
  },
  {
   "cell_type": "code",
   "execution_count": 192,
   "id": "c782ccb0-e041-43a6-8ac6-bb2144ff102f",
   "metadata": {
    "tags": []
   },
   "outputs": [
    {
     "data": {
      "text/plain": [
       "[1.0, 0.36788, 0.13534, 0.04979, 0.01832, 0.00674]"
      ]
     },
     "execution_count": 192,
     "metadata": {},
     "output_type": "execute_result"
    }
   ],
   "source": [
    "lista_exp_neg = [exp_neg(x) for x in lista]\n",
    "lista_exp_neg"
   ]
  },
  {
   "cell_type": "code",
   "execution_count": 193,
   "id": "e07790ab-9121-48e6-a8a6-44249fbd9f67",
   "metadata": {
    "tags": []
   },
   "outputs": [
    {
     "data": {
      "text/plain": [
       "[0, 1, 2, 3, 4, 5]"
      ]
     },
     "execution_count": 193,
     "metadata": {},
     "output_type": "execute_result"
    }
   ],
   "source": [
    "lista"
   ]
  },
  {
   "cell_type": "markdown",
   "id": "76c98795-c011-4bb5-b368-0f8f76e4b4d2",
   "metadata": {
    "tags": []
   },
   "source": [
    "## 2.Tuplas"
   ]
  },
  {
   "cell_type": "markdown",
   "id": "ea0ce0d1-dd71-41ae-91d0-a6e9b7d5cc1d",
   "metadata": {
    "tags": []
   },
   "source": [
    "Las tuplas son inmutables (no se pueden modificar)"
   ]
  },
  {
   "cell_type": "code",
   "execution_count": 194,
   "id": "2cd299f7-d7e9-40ec-ac15-8a8da7d662d9",
   "metadata": {
    "tags": []
   },
   "outputs": [
    {
     "data": {
      "text/plain": [
       "(1, 2, 3, 4, 5)"
      ]
     },
     "execution_count": 194,
     "metadata": {},
     "output_type": "execute_result"
    }
   ],
   "source": [
    "tupla = (1, 2, 3, 4, 5)\n",
    "tupla"
   ]
  },
  {
   "cell_type": "code",
   "execution_count": 195,
   "id": "79d0a6bc-7297-49ee-ba69-c96b639a9d9f",
   "metadata": {
    "tags": []
   },
   "outputs": [
    {
     "data": {
      "text/plain": [
       "1"
      ]
     },
     "execution_count": 195,
     "metadata": {},
     "output_type": "execute_result"
    }
   ],
   "source": [
    "tupla[0]"
   ]
  },
  {
   "cell_type": "code",
   "execution_count": 196,
   "id": "c7ccee24-f9e9-4816-ae76-694d5a399c22",
   "metadata": {
    "tags": []
   },
   "outputs": [
    {
     "data": {
      "text/plain": [
       "(4, 5)"
      ]
     },
     "execution_count": 196,
     "metadata": {},
     "output_type": "execute_result"
    }
   ],
   "source": [
    "tupla[3:5]"
   ]
  },
  {
   "cell_type": "code",
   "execution_count": 197,
   "id": "c8a4f33e-e805-4857-9ec3-bd51f8bc8afb",
   "metadata": {
    "tags": []
   },
   "outputs": [
    {
     "data": {
      "text/plain": [
       "[0, 1, 20, 3, 4, 5]"
      ]
     },
     "execution_count": 197,
     "metadata": {},
     "output_type": "execute_result"
    }
   ],
   "source": [
    "lista[2]= 20\n",
    "lista"
   ]
  },
  {
   "cell_type": "code",
   "execution_count": null,
   "id": "353be0a0-e281-43fe-a82a-7596e8f2b0a7",
   "metadata": {
    "tags": []
   },
   "outputs": [],
   "source": [
    "tupla[2] = 20"
   ]
  },
  {
   "cell_type": "code",
   "execution_count": 199,
   "id": "450f294c-d58b-4c8c-9b1b-08b10e01df5e",
   "metadata": {
    "tags": []
   },
   "outputs": [
    {
     "data": {
      "text/plain": [
       "(10, 20, True, 'Hola', [4, 5, 6], 120)"
      ]
     },
     "execution_count": 199,
     "metadata": {},
     "output_type": "execute_result"
    }
   ],
   "source": [
    "tuplaDatos = (10,20, True, 'Hola', [4,5,6],120)\n",
    "tuplaDatos"
   ]
  },
  {
   "cell_type": "code",
   "execution_count": 335,
   "id": "5fbf806a-594c-47c9-a657-742d5518c988",
   "metadata": {
    "tags": []
   },
   "outputs": [
    {
     "data": {
      "text/plain": [
       "True"
      ]
     },
     "execution_count": 335,
     "metadata": {},
     "output_type": "execute_result"
    }
   ],
   "source": [
    "10 in tuplaDatos "
   ]
  },
  {
   "cell_type": "code",
   "execution_count": 336,
   "id": "1bd9a352-c4ac-4c62-83ec-92972e57a0a8",
   "metadata": {
    "tags": []
   },
   "outputs": [
    {
     "data": {
      "text/plain": [
       "1"
      ]
     },
     "execution_count": 336,
     "metadata": {},
     "output_type": "execute_result"
    }
   ],
   "source": [
    "tuplaDatos.count(10)"
   ]
  },
  {
   "cell_type": "code",
   "execution_count": 200,
   "id": "f4f19b91-bde3-4682-b8bf-aa753df7ad70",
   "metadata": {
    "tags": []
   },
   "outputs": [
    {
     "data": {
      "text/plain": [
       "3"
      ]
     },
     "execution_count": 200,
     "metadata": {},
     "output_type": "execute_result"
    }
   ],
   "source": [
    "tuplaDatos. index('Hola')"
   ]
  },
  {
   "cell_type": "code",
   "execution_count": 338,
   "id": "1c35481a-ecb9-4ecd-a141-327620cee41e",
   "metadata": {
    "tags": []
   },
   "outputs": [
    {
     "data": {
      "text/plain": [
       "6"
      ]
     },
     "execution_count": 338,
     "metadata": {},
     "output_type": "execute_result"
    }
   ],
   "source": [
    "len(tuplaDatos)"
   ]
  },
  {
   "cell_type": "code",
   "execution_count": 341,
   "id": "44a87bbc-b260-4c30-8810-fcdd08260782",
   "metadata": {
    "tags": []
   },
   "outputs": [
    {
     "data": {
      "text/plain": [
       "(10, 20, True, 'Hola', [4, 5, 6], 120)"
      ]
     },
     "execution_count": 341,
     "metadata": {},
     "output_type": "execute_result"
    }
   ],
   "source": [
    "tuplaDatos = list(tuplaDatos)\n",
    "tuple(tuplaDatos)"
   ]
  },
  {
   "cell_type": "code",
   "execution_count": 201,
   "id": "a521b0be-0367-42a6-a410-68ceccc15141",
   "metadata": {
    "tags": []
   },
   "outputs": [
    {
     "data": {
      "text/plain": [
       "(100, 200, 300, 400, 500, 600)"
      ]
     },
     "execution_count": 201,
     "metadata": {},
     "output_type": "execute_result"
    }
   ],
   "source": [
    "numeros = (10, 20, 30, 40, 50, 60)\n",
    "tempList = [x*10 for x in numeros] #usamos una tupla como entrada.\n",
    "numeros = tuple(tempList)\n",
    "numeros"
   ]
  },
  {
   "cell_type": "markdown",
   "id": "955562af-2682-468b-a82c-c5ac7fdda158",
   "metadata": {
    "tags": []
   },
   "source": [
    "# 3. Diccionarios"
   ]
  },
  {
   "cell_type": "code",
   "execution_count": 206,
   "id": "858ee636-952b-497d-bc26-da2b957c80ae",
   "metadata": {
    "tags": []
   },
   "outputs": [
    {
     "data": {
      "text/plain": [
       "{1000: 'Javascript', 2000: 'Java', 3000: 'Python'}"
      ]
     },
     "execution_count": 206,
     "metadata": {},
     "output_type": "execute_result"
    }
   ],
   "source": [
    "dict1 = {1000 : 'Javascript', 2000: 'Java', 3000: 'Python'} #Busca directamente\n",
    "dict1"
   ]
  },
  {
   "cell_type": "code",
   "execution_count": 207,
   "id": "c248fce9-10df-4a7b-8af0-4c234c8cbea2",
   "metadata": {
    "tags": []
   },
   "outputs": [
    {
     "data": {
      "text/plain": [
       "'Javascript'"
      ]
     },
     "execution_count": 207,
     "metadata": {},
     "output_type": "execute_result"
    }
   ],
   "source": [
    "dict1[1000]"
   ]
  },
  {
   "cell_type": "code",
   "execution_count": null,
   "id": "4c7722a8-93f5-47fd-9a41-d13260108735",
   "metadata": {
    "tags": []
   },
   "outputs": [],
   "source": [
    "dict1[5]"
   ]
  },
  {
   "cell_type": "code",
   "execution_count": 211,
   "id": "99418730-4697-40c8-84fe-0ad8134e135e",
   "metadata": {
    "tags": []
   },
   "outputs": [],
   "source": [
    "dict1['hoal']= 'C#'"
   ]
  },
  {
   "cell_type": "code",
   "execution_count": 212,
   "id": "6de17a7f-4c82-4ec4-8fd0-401c448f99c1",
   "metadata": {
    "tags": []
   },
   "outputs": [
    {
     "data": {
      "text/plain": [
       "{1000: 'Javascript', 2000: 'Java', 3000: 'Python', 'hoal': 'C#'}"
      ]
     },
     "execution_count": 212,
     "metadata": {},
     "output_type": "execute_result"
    }
   ],
   "source": [
    "dict1"
   ]
  },
  {
   "cell_type": "code",
   "execution_count": 214,
   "id": "88c9be38-b622-43e2-9086-e74dea25a26d",
   "metadata": {
    "tags": []
   },
   "outputs": [],
   "source": [
    "dict2 = {'Hora': '19:55',\n",
    "'Valores': {'humedad':35,\n",
    "           'temperatura':40,\n",
    "           'prec':50\n",
    "           }}"
   ]
  },
  {
   "cell_type": "code",
   "execution_count": 216,
   "id": "8b0eefef-7ebf-4109-afa2-1aa4270f300b",
   "metadata": {
    "tags": []
   },
   "outputs": [
    {
     "data": {
      "text/plain": [
       "40"
      ]
     },
     "execution_count": 216,
     "metadata": {},
     "output_type": "execute_result"
    }
   ],
   "source": [
    "dict2['Valores']['temperatura']"
   ]
  },
  {
   "cell_type": "code",
   "execution_count": 217,
   "id": "8da1c376-5180-44d2-a4e8-7bce6b1d8b7f",
   "metadata": {
    "tags": []
   },
   "outputs": [
    {
     "data": {
      "text/plain": [
       "['Javascript', 'Java', 'Python', 'C#']"
      ]
     },
     "execution_count": 217,
     "metadata": {},
     "output_type": "execute_result"
    }
   ],
   "source": [
    "list(dict1.values())"
   ]
  },
  {
   "cell_type": "code",
   "execution_count": 218,
   "id": "9536b48e-baf3-43cf-b90b-944339f7f8f7",
   "metadata": {
    "tags": []
   },
   "outputs": [
    {
     "data": {
      "text/plain": [
       "[1000, 2000, 3000, 'hoal']"
      ]
     },
     "execution_count": 218,
     "metadata": {},
     "output_type": "execute_result"
    }
   ],
   "source": [
    "list(dict1.keys())"
   ]
  },
  {
   "cell_type": "code",
   "execution_count": 219,
   "id": "0dcde5a5-405c-4779-9be9-a9ea0a604cf5",
   "metadata": {
    "tags": []
   },
   "outputs": [
    {
     "data": {
      "text/plain": [
       "[(1000, 'Javascript'), (2000, 'Java'), (3000, 'Python'), ('hoal', 'C#')]"
      ]
     },
     "execution_count": 219,
     "metadata": {},
     "output_type": "execute_result"
    }
   ],
   "source": [
    "list(dict1.items())"
   ]
  },
  {
   "cell_type": "code",
   "execution_count": 220,
   "id": "55d0760a-0f48-463d-b0c6-346b983cae5f",
   "metadata": {
    "tags": []
   },
   "outputs": [
    {
     "data": {
      "text/plain": [
       "{1000: 'JAVASCRIPT', 2000: 'JAVA', 3000: 'PYTHON', 'hoal': 'C#'}"
      ]
     },
     "execution_count": 220,
     "metadata": {},
     "output_type": "execute_result"
    }
   ],
   "source": [
    "dict2 = {k: v.upper() for k, v in dict1.items()}\n",
    "dict2"
   ]
  }
 ],
 "metadata": {
  "kernelspec": {
   "display_name": "Python 3 (ipykernel)",
   "language": "python",
   "name": "python3"
  },
  "language_info": {
   "codemirror_mode": {
    "name": "ipython",
    "version": 3
   },
   "file_extension": ".py",
   "mimetype": "text/x-python",
   "name": "python",
   "nbconvert_exporter": "python",
   "pygments_lexer": "ipython3",
   "version": "3.11.5"
  }
 },
 "nbformat": 4,
 "nbformat_minor": 5
}
