{
 "cells": [
  {
   "cell_type": "markdown",
   "id": "94857044-38f1-46a8-bfb2-3cd870816a49",
   "metadata": {},
   "source": [
    "### 1. Operaciones Básicas"
   ]
  },
  {
   "cell_type": "code",
   "execution_count": 10,
   "id": "48aa09ef-57c9-4d00-95cf-34641e6f4da2",
   "metadata": {
    "tags": []
   },
   "outputs": [
    {
     "data": {
      "text/plain": [
       "7"
      ]
     },
     "execution_count": 10,
     "metadata": {},
     "output_type": "execute_result"
    }
   ],
   "source": [
    "2+5"
   ]
  },
  {
   "cell_type": "code",
   "execution_count": 11,
   "id": "56088644-1eec-48e6-8326-a7ed58935072",
   "metadata": {
    "tags": []
   },
   "outputs": [
    {
     "data": {
      "text/plain": [
       "45"
      ]
     },
     "execution_count": 11,
     "metadata": {},
     "output_type": "execute_result"
    }
   ],
   "source": [
    "5*9"
   ]
  },
  {
   "cell_type": "code",
   "execution_count": 12,
   "id": "e5226ba8-ab51-45ef-81ef-ee680d147aa1",
   "metadata": {
    "tags": []
   },
   "outputs": [
    {
     "data": {
      "text/plain": [
       "-4"
      ]
     },
     "execution_count": 12,
     "metadata": {},
     "output_type": "execute_result"
    }
   ],
   "source": [
    "5-9"
   ]
  },
  {
   "cell_type": "code",
   "execution_count": 13,
   "id": "0224208a-7d2e-489d-bfa6-7f98c58a2ab7",
   "metadata": {
    "tags": []
   },
   "outputs": [
    {
     "data": {
      "text/plain": [
       "1.75"
      ]
     },
     "execution_count": 13,
     "metadata": {},
     "output_type": "execute_result"
    }
   ],
   "source": [
    "7/4"
   ]
  },
  {
   "cell_type": "code",
   "execution_count": 14,
   "id": "6cf42542-9f50-4ed7-93be-82396377d98e",
   "metadata": {
    "tags": []
   },
   "outputs": [
    {
     "data": {
      "text/plain": [
       "27"
      ]
     },
     "execution_count": 14,
     "metadata": {},
     "output_type": "execute_result"
    }
   ],
   "source": [
    "3**3"
   ]
  },
  {
   "cell_type": "code",
   "execution_count": 15,
   "id": "fa56a604-9330-4683-b00c-1188e46e1864",
   "metadata": {
    "tags": []
   },
   "outputs": [
    {
     "data": {
      "text/plain": [
       "1"
      ]
     },
     "execution_count": 15,
     "metadata": {},
     "output_type": "execute_result"
    }
   ],
   "source": [
    "7//4"
   ]
  },
  {
   "cell_type": "code",
   "execution_count": 16,
   "id": "779674de-1ac5-4955-b387-13bee47a58d1",
   "metadata": {
    "tags": []
   },
   "outputs": [
    {
     "data": {
      "text/plain": [
       "2"
      ]
     },
     "execution_count": 16,
     "metadata": {},
     "output_type": "execute_result"
    }
   ],
   "source": [
    "23 % 7 #esto es una operación de modulo."
   ]
  },
  {
   "cell_type": "code",
   "execution_count": 20,
   "id": "eaaf80ec-563c-4357-9afb-7954eb4715e5",
   "metadata": {
    "tags": []
   },
   "outputs": [
    {
     "data": {
      "text/plain": [
       "'esto es un comentario \\n   de varias lineas \\n'"
      ]
     },
     "execution_count": 20,
     "metadata": {},
     "output_type": "execute_result"
    }
   ],
   "source": [
    "'''esto es un comentario \n",
    "   de varias lineas \n",
    "'''"
   ]
  },
  {
   "cell_type": "code",
   "execution_count": 21,
   "id": "cb22d0c7-8899-49ab-9d6c-205ec81792d3",
   "metadata": {
    "tags": []
   },
   "outputs": [
    {
     "data": {
      "text/plain": [
       "' esto es otro comentario \\nde varias lineas '"
      ]
     },
     "execution_count": 21,
     "metadata": {},
     "output_type": "execute_result"
    }
   ],
   "source": [
    "\"\"\" esto es otro comentario \n",
    "de varias lineas \"\"\""
   ]
  },
  {
   "cell_type": "markdown",
   "id": "c55ad5a2-76a4-495e-a228-e483d303d061",
   "metadata": {
    "tags": []
   },
   "source": [
    "### 2. Despliege en pantalla."
   ]
  },
  {
   "cell_type": "code",
   "execution_count": 25,
   "id": "80e758b4-9e65-443b-b855-ee83dd16e4b5",
   "metadata": {
    "tags": []
   },
   "outputs": [
    {
     "name": "stdout",
     "output_type": "stream",
     "text": [
      "Hola 'a' todos\n"
     ]
    }
   ],
   "source": [
    "print(\"Hola 'a' todos\")"
   ]
  },
  {
   "cell_type": "code",
   "execution_count": 24,
   "id": "6b0b98ae-1be3-4f89-9350-b3eb7ba048fc",
   "metadata": {
    "tags": []
   },
   "outputs": [
    {
     "name": "stdout",
     "output_type": "stream",
     "text": [
      "Hola a todos\n"
     ]
    }
   ],
   "source": [
    "a = \"Hola a todos\"\n",
    "print(a)"
   ]
  },
  {
   "cell_type": "code",
   "execution_count": 26,
   "id": "b11574eb-b8d9-45d5-96ba-68937a9e68d7",
   "metadata": {
    "tags": []
   },
   "outputs": [
    {
     "name": "stdout",
     "output_type": "stream",
     "text": [
      "Hola \"a\" todos\n"
     ]
    }
   ],
   "source": [
    "a = 'Hola \"a\" todos'\n",
    "print(a)"
   ]
  },
  {
   "cell_type": "code",
   "execution_count": 27,
   "id": "09e23e6c-1fc5-42d4-97ea-d1e5782f6009",
   "metadata": {
    "tags": []
   },
   "outputs": [
    {
     "ename": "SyntaxError",
     "evalue": "unterminated string literal (detected at line 1) (3781785811.py, line 1)",
     "output_type": "error",
     "traceback": [
      "\u001b[1;36m  Cell \u001b[1;32mIn[27], line 1\u001b[1;36m\u001b[0m\n\u001b[1;33m    \"Hola a todos ' dasdaa\u001b[0m\n\u001b[1;37m    ^\u001b[0m\n\u001b[1;31mSyntaxError\u001b[0m\u001b[1;31m:\u001b[0m unterminated string literal (detected at line 1)\n"
     ]
    }
   ],
   "source": [
    "\"Hola a todos ' dasdaa"
   ]
  },
  {
   "cell_type": "code",
   "execution_count": 29,
   "id": "84233975-01d7-451b-bd32-05806387d5e6",
   "metadata": {
    "tags": []
   },
   "outputs": [
    {
     "data": {
      "text/plain": [
       "'Hola -Hola -Hola -Hola -Hola -'"
      ]
     },
     "execution_count": 29,
     "metadata": {},
     "output_type": "execute_result"
    }
   ],
   "source": [
    "'Hola -' * 5"
   ]
  },
  {
   "cell_type": "code",
   "execution_count": 31,
   "id": "01324104-fc1e-488f-99da-2d514d670ea3",
   "metadata": {
    "tags": []
   },
   "outputs": [
    {
     "name": "stdout",
     "output_type": "stream",
     "text": [
      "El resultado es:cinco\n"
     ]
    }
   ],
   "source": [
    "print(\"El resultado es:\" + \"cinco\")"
   ]
  },
  {
   "cell_type": "code",
   "execution_count": 34,
   "id": "507a8b0a-1bbb-472a-b546-f92a706f2837",
   "metadata": {
    "tags": []
   },
   "outputs": [
    {
     "name": "stdout",
     "output_type": "stream",
     "text": [
      "El resultado es:54565656445\n"
     ]
    }
   ],
   "source": [
    "a=54565656445\n",
    "print(\"El resultado es:\" + str(a))"
   ]
  },
  {
   "cell_type": "code",
   "execution_count": 36,
   "id": "86b1631b-add2-40c9-a493-6dc294c41325",
   "metadata": {
    "tags": []
   },
   "outputs": [
    {
     "name": "stdout",
     "output_type": "stream",
     "text": [
      "el resultado es: 54565656445\n"
     ]
    }
   ],
   "source": [
    "print(\"el resultado es:\",a)"
   ]
  },
  {
   "cell_type": "code",
   "execution_count": 38,
   "id": "c2d85b2b-71c5-4584-a29f-d1b0a018e981",
   "metadata": {
    "tags": []
   },
   "outputs": [
    {
     "name": "stdout",
     "output_type": "stream",
     "text": [
      "El resultado es: 11\n"
     ]
    }
   ],
   "source": [
    "print(f\"El resultado es: {5+6}\")"
   ]
  },
  {
   "cell_type": "code",
   "execution_count": 42,
   "id": "af29c72a-0421-4852-ba03-1f30e6fbd0c2",
   "metadata": {
    "tags": []
   },
   "outputs": [
    {
     "name": "stdout",
     "output_type": "stream",
     "text": [
      "La suma de 5 + 3 es 8\n"
     ]
    }
   ],
   "source": [
    "a=5\n",
    "b=3\n",
    "c=a+b\n",
    "salida = f\"La suma de {a} + {b} es {c}\" #template literals\n",
    "print(salida)"
   ]
  },
  {
   "cell_type": "code",
   "execution_count": 43,
   "id": "4ee0628b-8fd0-4652-8533-c255750fe89d",
   "metadata": {
    "tags": []
   },
   "outputs": [
    {
     "name": "stdout",
     "output_type": "stream",
     "text": [
      "La suma 5 + 3 es 8\n"
     ]
    }
   ],
   "source": [
    "salida = \"La suma {} + {} es {}\".format(a,b,c)\n",
    "print(salida)"
   ]
  },
  {
   "cell_type": "code",
   "execution_count": 49,
   "id": "aae498b5-f0c8-45d3-b5d1-4ab4b32bfab4",
   "metadata": {
    "tags": []
   },
   "outputs": [
    {
     "name": "stdout",
     "output_type": "stream",
     "text": [
      "La suma de 5 + 3 es 8\n"
     ]
    }
   ],
   "source": [
    "salida = \"La suma de \" + str(a) + \" + \" + str(b) + \" es \" + str(c)\n",
    "print(salida)"
   ]
  },
  {
   "cell_type": "code",
   "execution_count": 54,
   "id": "83a45df7-e861-4aa7-8fe2-8dcb78deeb1d",
   "metadata": {
    "tags": []
   },
   "outputs": [
    {
     "name": "stdin",
     "output_type": "stream",
     "text": [
      "Ingrese un numero:  56\n",
      "Ingrese otro numero:  65\n"
     ]
    },
    {
     "name": "stdout",
     "output_type": "stream",
     "text": [
      "La suma: 121\n"
     ]
    }
   ],
   "source": [
    "a = int(input(\"Ingrese un numero: \"))\n",
    "b = int(input(\"Ingrese otro numero: \"))\n",
    "print(f\"La suma: {a+b}\")"
   ]
  },
  {
   "cell_type": "markdown",
   "id": "8d416363-4509-4016-8228-f9f477e8a2cf",
   "metadata": {
    "tags": []
   },
   "source": [
    "### 3. Variables y Tipos de Datos"
   ]
  },
  {
   "cell_type": "markdown",
   "id": "e22bac35-8a7a-4f83-af24-d82139856aa0",
   "metadata": {},
   "source": [
    "#### 3.1 Strings"
   ]
  },
  {
   "cell_type": "code",
   "execution_count": 73,
   "id": "1da6f286-68a7-4c4a-974d-7d96e146a8b8",
   "metadata": {
    "tags": []
   },
   "outputs": [
    {
     "data": {
      "text/plain": [
       "'Esto es una string'"
      ]
     },
     "execution_count": 73,
     "metadata": {},
     "output_type": "execute_result"
    }
   ],
   "source": [
    "miString = \"Esto es una string\"\n",
    "miString"
   ]
  },
  {
   "cell_type": "code",
   "execution_count": 74,
   "id": "deb89800-ab21-4150-bff3-fddaa676ce74",
   "metadata": {
    "tags": []
   },
   "outputs": [
    {
     "data": {
      "text/plain": [
       "'E'"
      ]
     },
     "execution_count": 74,
     "metadata": {},
     "output_type": "execute_result"
    }
   ],
   "source": [
    "miString[0]"
   ]
  },
  {
   "cell_type": "code",
   "execution_count": 75,
   "id": "80ba6eaa-fc3f-46ff-96c0-67518def54e8",
   "metadata": {
    "tags": []
   },
   "outputs": [
    {
     "data": {
      "text/plain": [
       "'Esto es '"
      ]
     },
     "execution_count": 75,
     "metadata": {},
     "output_type": "execute_result"
    }
   ],
   "source": [
    "miString[0:8] #no incluye el limite superio del subString."
   ]
  },
  {
   "cell_type": "code",
   "execution_count": 76,
   "id": "7f1bc668-8410-42fb-94e6-1358b95e498c",
   "metadata": {
    "tags": []
   },
   "outputs": [
    {
     "data": {
      "text/plain": [
       "'string'"
      ]
     },
     "execution_count": 76,
     "metadata": {},
     "output_type": "execute_result"
    }
   ],
   "source": [
    "miString[-6:] # no se puede ir de una posición a positiva"
   ]
  },
  {
   "cell_type": "code",
   "execution_count": 77,
   "id": "c5c486f3-4e83-44d5-a912-17bb761a1e61",
   "metadata": {
    "tags": []
   },
   "outputs": [
    {
     "data": {
      "text/plain": [
       "'es una string'"
      ]
     },
     "execution_count": 77,
     "metadata": {},
     "output_type": "execute_result"
    }
   ],
   "source": [
    "miString[5:]"
   ]
  },
  {
   "cell_type": "code",
   "execution_count": 78,
   "id": "4008538e-615e-4557-992d-c5295a674af5",
   "metadata": {
    "tags": []
   },
   "outputs": [
    {
     "data": {
      "text/plain": [
       "'Esto es u'"
      ]
     },
     "execution_count": 78,
     "metadata": {},
     "output_type": "execute_result"
    }
   ],
   "source": [
    "miString[:9]"
   ]
  },
  {
   "cell_type": "markdown",
   "id": "36d0dd59-438c-42e9-b9b5-00f33c040cc5",
   "metadata": {
    "tags": []
   },
   "source": [
    "### 3.2 Enteros"
   ]
  },
  {
   "cell_type": "code",
   "execution_count": 82,
   "id": "a7163777-edb6-4e9f-9e0b-6a002caf9cc4",
   "metadata": {
    "tags": []
   },
   "outputs": [
    {
     "data": {
      "text/plain": [
       "int"
      ]
     },
     "execution_count": 82,
     "metadata": {},
     "output_type": "execute_result"
    }
   ],
   "source": [
    "entero = 5\n",
    "type(entero)"
   ]
  },
  {
   "cell_type": "code",
   "execution_count": 84,
   "id": "24a5fa4d-ac98-49e9-9337-b80e27ec44ba",
   "metadata": {
    "tags": []
   },
   "outputs": [
    {
     "data": {
      "text/plain": [
       "int"
      ]
     },
     "execution_count": 84,
     "metadata": {},
     "output_type": "execute_result"
    }
   ],
   "source": [
    "a = 5.56589456\n",
    "type(int(a))"
   ]
  },
  {
   "cell_type": "code",
   "execution_count": 85,
   "id": "7054f9f8-e0a3-4d20-b7b3-c838bf48182f",
   "metadata": {
    "tags": []
   },
   "outputs": [
    {
     "data": {
      "text/plain": [
       "5"
      ]
     },
     "execution_count": 85,
     "metadata": {},
     "output_type": "execute_result"
    }
   ],
   "source": [
    "int(a)"
   ]
  },
  {
   "cell_type": "code",
   "execution_count": 86,
   "id": "9527152f-4478-4c88-9c90-d2e447707454",
   "metadata": {
    "tags": []
   },
   "outputs": [
    {
     "ename": "ValueError",
     "evalue": "invalid literal for int() with base 10: 'hola'",
     "output_type": "error",
     "traceback": [
      "\u001b[1;31m---------------------------------------------------------------------------\u001b[0m",
      "\u001b[1;31mValueError\u001b[0m                                Traceback (most recent call last)",
      "Cell \u001b[1;32mIn[86], line 1\u001b[0m\n\u001b[1;32m----> 1\u001b[0m \u001b[38;5;28mint\u001b[39m(\u001b[38;5;124m\"\u001b[39m\u001b[38;5;124mhola\u001b[39m\u001b[38;5;124m\"\u001b[39m)\n",
      "\u001b[1;31mValueError\u001b[0m: invalid literal for int() with base 10: 'hola'"
     ]
    }
   ],
   "source": [
    "int(\"hola\")"
   ]
  },
  {
   "cell_type": "code",
   "execution_count": 89,
   "id": "c9552c6a-3427-48ff-b93c-ab6d0600d835",
   "metadata": {
    "tags": []
   },
   "outputs": [
    {
     "data": {
      "text/plain": [
       "float"
      ]
     },
     "execution_count": 89,
     "metadata": {},
     "output_type": "execute_result"
    }
   ],
   "source": [
    "b = 8.569946545645645456\n",
    "type(b)"
   ]
  },
  {
   "cell_type": "code",
   "execution_count": 90,
   "id": "f143aea2-11c0-4d6b-9ccd-142e8373e638",
   "metadata": {
    "tags": []
   },
   "outputs": [
    {
     "name": "stdout",
     "output_type": "stream",
     "text": [
      "8.569946545645646\n"
     ]
    }
   ],
   "source": [
    "print(b)"
   ]
  },
  {
   "cell_type": "code",
   "execution_count": 95,
   "id": "e8bb9163-8691-47a6-844b-2210177303c7",
   "metadata": {
    "tags": []
   },
   "outputs": [
    {
     "name": "stdout",
     "output_type": "stream",
     "text": [
      "Hola 8.57\n"
     ]
    }
   ],
   "source": [
    "print(f\"Hola {b:.2f}\")"
   ]
  },
  {
   "cell_type": "code",
   "execution_count": 97,
   "id": "3518a90b-4641-4193-bca7-867fe6a9ce6e",
   "metadata": {
    "tags": []
   },
   "outputs": [
    {
     "data": {
      "text/plain": [
       "3595.565"
      ]
     },
     "execution_count": 97,
     "metadata": {},
     "output_type": "execute_result"
    }
   ],
   "source": [
    "a = '3595.565'\n",
    "float(a)"
   ]
  },
  {
   "cell_type": "markdown",
   "id": "0381fb8f-760f-4835-ac86-6bd00547a338",
   "metadata": {},
   "source": [
    "#### 3.3 Booleanos"
   ]
  },
  {
   "cell_type": "code",
   "execution_count": 98,
   "id": "8ea70839-9676-4380-8b0d-208ca3edde2d",
   "metadata": {
    "tags": []
   },
   "outputs": [],
   "source": [
    "a = True\n",
    "b = False"
   ]
  },
  {
   "cell_type": "code",
   "execution_count": 99,
   "id": "bc74b698-5fce-4521-be21-84c306806724",
   "metadata": {
    "tags": []
   },
   "outputs": [
    {
     "data": {
      "text/plain": [
       "bool"
      ]
     },
     "execution_count": 99,
     "metadata": {},
     "output_type": "execute_result"
    }
   ],
   "source": [
    "type(b)"
   ]
  },
  {
   "cell_type": "code",
   "execution_count": 100,
   "id": "1cdc4e91-45f0-4d87-baed-170f0dc4cf6f",
   "metadata": {
    "tags": []
   },
   "outputs": [
    {
     "data": {
      "text/plain": [
       "False"
      ]
     },
     "execution_count": 100,
     "metadata": {},
     "output_type": "execute_result"
    }
   ],
   "source": [
    "a & b #esto es diferente a usar and, es para condicionales en un ciclo"
   ]
  },
  {
   "cell_type": "code",
   "execution_count": 101,
   "id": "4c5a617d-a0f3-4a9f-b719-f963c0e29c1a",
   "metadata": {
    "tags": []
   },
   "outputs": [
    {
     "data": {
      "text/plain": [
       "True"
      ]
     },
     "execution_count": 101,
     "metadata": {},
     "output_type": "execute_result"
    }
   ],
   "source": [
    "a | b"
   ]
  },
  {
   "cell_type": "code",
   "execution_count": 110,
   "id": "c8591476-724d-4914-b2e9-7e3dc06ebbb1",
   "metadata": {
    "tags": []
   },
   "outputs": [
    {
     "data": {
      "text/plain": [
       "False"
      ]
     },
     "execution_count": 110,
     "metadata": {},
     "output_type": "execute_result"
    }
   ],
   "source": [
    "not(a) # recomendable usar bitwise, ~ no funciona para booleanos solo int"
   ]
  },
  {
   "cell_type": "markdown",
   "id": "6e54d0d8-64fc-4dbe-ab65-9d3af451ea6e",
   "metadata": {
    "tags": []
   },
   "source": [
    "### 4 Condicionales"
   ]
  },
  {
   "cell_type": "code",
   "execution_count": 113,
   "id": "bd2b65b0-4156-47fc-832a-bb2a1d953907",
   "metadata": {
    "tags": []
   },
   "outputs": [
    {
     "data": {
      "text/plain": [
       "True"
      ]
     },
     "execution_count": 113,
     "metadata": {},
     "output_type": "execute_result"
    }
   ],
   "source": [
    "42 == 42 #operación de comparación (no igualar/crear variable)"
   ]
  },
  {
   "cell_type": "code",
   "execution_count": 114,
   "id": "9dbeabe7-a962-4f28-9c0c-7f8b6af500cf",
   "metadata": {
    "tags": []
   },
   "outputs": [
    {
     "data": {
      "text/plain": [
       "False"
      ]
     },
     "execution_count": 114,
     "metadata": {},
     "output_type": "execute_result"
    }
   ],
   "source": [
    "40 == 42"
   ]
  },
  {
   "cell_type": "code",
   "execution_count": 115,
   "id": "af919ad9-9c99-467d-ae76-d83fae6511f1",
   "metadata": {
    "tags": []
   },
   "outputs": [
    {
     "data": {
      "text/plain": [
       "True"
      ]
     },
     "execution_count": 115,
     "metadata": {},
     "output_type": "execute_result"
    }
   ],
   "source": [
    "'Hola' == 'Hola'"
   ]
  },
  {
   "cell_type": "code",
   "execution_count": 117,
   "id": "320a0045-e645-4e95-b482-db135cee5d3b",
   "metadata": {
    "tags": []
   },
   "outputs": [
    {
     "data": {
      "text/plain": [
       "True"
      ]
     },
     "execution_count": 117,
     "metadata": {},
     "output_type": "execute_result"
    }
   ],
   "source": [
    "'hola' == 'hola'"
   ]
  },
  {
   "cell_type": "code",
   "execution_count": 118,
   "id": "85c317fa-30dc-44bc-9865-ca280d726c33",
   "metadata": {
    "tags": []
   },
   "outputs": [
    {
     "data": {
      "text/plain": [
       "False"
      ]
     },
     "execution_count": 118,
     "metadata": {},
     "output_type": "execute_result"
    }
   ],
   "source": [
    "'Hola'  != 'Hola' #diferencia entre valores."
   ]
  },
  {
   "cell_type": "code",
   "execution_count": 125,
   "id": "e0696e0e-b573-4019-9fd9-83c38512221d",
   "metadata": {
    "tags": []
   },
   "outputs": [
    {
     "name": "stdin",
     "output_type": "stream",
     "text": [
      "Ingrese un numero:  8\n"
     ]
    },
    {
     "name": "stdout",
     "output_type": "stream",
     "text": [
      "No es cero\n",
      "otra cosa\n"
     ]
    }
   ],
   "source": [
    "numero = int(input(\"Ingrese un numero: \"))\n",
    "if(numero != 0):\n",
    "    print(\"No es cero\")\n",
    "    print(\"otra cosa\")\n",
    "else:\n",
    "    print(\"Es cero\")  ## siempre poner indentación"
   ]
  },
  {
   "cell_type": "code",
   "execution_count": 132,
   "id": "4a99784b-03ca-4d0a-b843-265821995d6c",
   "metadata": {
    "tags": []
   },
   "outputs": [
    {
     "name": "stdin",
     "output_type": "stream",
     "text": [
      "Ingrese un numero de dia:  -1\n"
     ]
    },
    {
     "name": "stdout",
     "output_type": "stream",
     "text": [
      "el dia no es valido\n"
     ]
    }
   ],
   "source": [
    "dia = int(input(\"Ingrese un numero de dia: \"))\n",
    "if((dia >= 1) and (dia <= 7)):\n",
    "    if(dia ==1):\n",
    "        dia_str=\"Lunes\"\n",
    "    elif(dia == 2):\n",
    "        dia_str= \"Martes\"\n",
    "    elif(dia == 3 ):\n",
    "        dia_str = \"Miercoles\"\n",
    "    elif(dia == 4):\n",
    "        dia_str = \"Jueves\"\n",
    "    elif(dia == 5):\n",
    "        dia_str = \"Viernes\"\n",
    "    else:\n",
    "        dia_str = \"Fin de Semana\" #No hay case\n",
    "    print(\"El dia es: \" + dia_str)\n",
    "else:\n",
    "    print(\"el dia no es valido\")"
   ]
  },
  {
   "cell_type": "markdown",
   "id": "22668fbc-65a4-4d7d-9a1c-1e728339bc4f",
   "metadata": {},
   "source": [
    "### 5. Ciclos"
   ]
  },
  {
   "cell_type": "code",
   "execution_count": 14,
   "id": "09a2b364-2ceb-4b27-9bde-e7963834f0b3",
   "metadata": {
    "tags": []
   },
   "outputs": [
    {
     "name": "stdin",
     "output_type": "stream",
     "text": [
      "Ingrese un numero del 1 al 20: 10\n"
     ]
    },
    {
     "name": "stdout",
     "output_type": "stream",
     "text": [
      "saliendo...\n"
     ]
    }
   ],
   "source": [
    "valor_secreto = 10\n",
    "valor = 0\n",
    "\n",
    "while(valor != valor_secreto):\n",
    "    valor = int(input(\"Ingrese un numero del 1 al 20:\"))\n",
    "    \n",
    "print(\"saliendo...\")"
   ]
  },
  {
   "cell_type": "code",
   "execution_count": 39,
   "id": "0859e88b-94cc-419c-a4a2-5bdef5b4391a",
   "metadata": {
    "tags": []
   },
   "outputs": [
    {
     "name": "stdin",
     "output_type": "stream",
     "text": [
      "Ingrese un numero:  5\n"
     ]
    },
    {
     "name": "stdout",
     "output_type": "stream",
     "text": [
      "El acumulado es: 5\n"
     ]
    },
    {
     "name": "stdin",
     "output_type": "stream",
     "text": [
      "Ingrese un numero:  10\n"
     ]
    },
    {
     "name": "stdout",
     "output_type": "stream",
     "text": [
      "El acumulado es: 15\n"
     ]
    },
    {
     "name": "stdin",
     "output_type": "stream",
     "text": [
      "Ingrese un numero:  d\n"
     ]
    },
    {
     "name": "stdout",
     "output_type": "stream",
     "text": [
      "Error - Ingresó una letra\n",
      "El acumulado es: 15\n"
     ]
    }
   ],
   "source": [
    "acc = 0\n",
    "while True:\n",
    "    try:\n",
    "        nuevo= int(input(\"Ingrese un numero: \"))\n",
    "        acc= acc + nuevo\n",
    "        if(acc >=50):\n",
    "            print(\"Saliendo...\")\n",
    "            break\n",
    "    except ValueError:\n",
    "        print(\"Error - Ingresó una letra\")\n",
    "        break\n",
    "    finally:\n",
    "        print(f\"El acumulado es: {acc}\")"
   ]
  },
  {
   "cell_type": "markdown",
   "id": "7d02d5d9-31b9-47b3-af72-8dfd32ccb183",
   "metadata": {},
   "source": [
    "##### "
   ]
  },
  {
   "cell_type": "markdown",
   "id": "9596a985-6a58-4e04-8ea5-0b4e0eb4fd13",
   "metadata": {},
   "source": [
    "### 6. Excepciones"
   ]
  },
  {
   "cell_type": "code",
   "execution_count": 38,
   "id": "7f2696b5-6d9b-43ec-a738-22ad9f8e75ed",
   "metadata": {
    "tags": []
   },
   "outputs": [
    {
     "name": "stdin",
     "output_type": "stream",
     "text": [
      "Ingrese un numero:  5\n",
      "Ingrese otro numero:  5\n"
     ]
    },
    {
     "name": "stdout",
     "output_type": "stream",
     "text": [
      "El resultado es: 1.0\n"
     ]
    }
   ],
   "source": [
    "try:\n",
    "    A = float(input(\"Ingrese un numero: \"))\n",
    "    B = float(input(\"Ingrese otro numero: \"))\n",
    "    C = A/B\n",
    "    print (\"El resultado es:\",C)\n",
    "except ValueError:\n",
    "    print(\"Error - ingresó una letra!!!\")\n",
    "except ZeroDivisionError:\n",
    "    print(\"Error - división por cero\")"
   ]
  },
  {
   "cell_type": "code",
   "execution_count": 27,
   "id": "33939c33-c0db-414a-94eb-d914bfd90fe6",
   "metadata": {
    "tags": []
   },
   "outputs": [
    {
     "name": "stdin",
     "output_type": "stream",
     "text": [
      "Ingrese un numero:  5\n",
      "Ingrese otro numero:  d\n"
     ]
    },
    {
     "name": "stdout",
     "output_type": "stream",
     "text": [
      "could not convert string to float: 'd'\n"
     ]
    }
   ],
   "source": [
    "try:\n",
    "    A = float(input(\"Ingrese un numero: \"))\n",
    "    B = float(input(\"Ingrese otro numero: \"))\n",
    "    C = A/B\n",
    "    print (\"El resultado es:\",C)\n",
    "except Exception as ex:\n",
    "    print(ex)"
   ]
  },
  {
   "cell_type": "code",
   "execution_count": 42,
   "id": "00ccca75-e16d-48d3-bce5-48c0788e93d6",
   "metadata": {
    "tags": []
   },
   "outputs": [
    {
     "name": "stdout",
     "output_type": "stream",
     "text": [
      "Untitled.ipynb\n",
      "hola\n",
      "leccion_2.ipynb\n"
     ]
    },
    {
     "name": "stderr",
     "output_type": "stream",
     "text": [
      "A subdirectory or file hola already exists.\n",
      "git: '#para' is not a git command. See 'git --help'.\n"
     ]
    }
   ],
   "source": [
    "!ls\n",
    "!mkdir hola"
   ]
  },
  {
   "cell_type": "code",
   "execution_count": null,
   "id": "e70cc038-4992-4463-abf4-035cb8f70b6b",
   "metadata": {},
   "outputs": [],
   "source": []
  }
 ],
 "metadata": {
  "kernelspec": {
   "display_name": "Python 3 (ipykernel)",
   "language": "python",
   "name": "python3"
  },
  "language_info": {
   "codemirror_mode": {
    "name": "ipython",
    "version": 3
   },
   "file_extension": ".py",
   "mimetype": "text/x-python",
   "name": "python",
   "nbconvert_exporter": "python",
   "pygments_lexer": "ipython3",
   "version": "3.11.5"
  }
 },
 "nbformat": 4,
 "nbformat_minor": 5
}
