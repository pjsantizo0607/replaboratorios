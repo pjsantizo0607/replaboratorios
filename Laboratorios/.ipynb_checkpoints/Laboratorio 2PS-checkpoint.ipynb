{
 "cells": [
  {
   "cell_type": "markdown",
   "id": "b107c298-6c0b-454c-bf2e-bd4bdbf9329a",
   "metadata": {},
   "source": [
    "# Laboratorio # 2\n",
    "**Nombre:** Pablo Santizo\\\n",
    "**Carné:** 24000134\\\n",
    "**Curso** Ciencia de Datos en Python\\\n",
    "**Maestría:** Data Science\\\n",
    "**Universidad:** Galileo, Instituto en Investigación de Operaciones"
   ]
  },
  {
   "cell_type": "markdown",
   "id": "5b03f48f-4fa4-42e8-b7d8-eeb6d9bc820b",
   "metadata": {
    "tags": []
   },
   "source": [
    "## Parte #1 - (Programación y Sintaxis): \n",
    "A continuación se le muestran una lista de ejercicios que deberá completar utilizando Python, debe usar Markdown para indicar donde inicia cada uno\n",
    "de los ejercicios."
   ]
  },
  {
   "cell_type": "code",
   "execution_count": 50,
   "id": "0389d803-898c-4092-9d40-89afd0f3a244",
   "metadata": {
    "tags": []
   },
   "outputs": [],
   "source": [
    "import pandas as pd\n",
    "import numpy as np \n",
    "from datetime import datetime"
   ]
  },
  {
   "cell_type": "markdown",
   "id": "e561d260-4c46-4d44-94b8-cad511c6612c",
   "metadata": {},
   "source": [
    "## 1. Haga un programa en Python que reciba de parámetro un número de segundos y que despliegue en pantalla, las horas, minutos y segundos que representan.  Recuerde manejar excepciones y errores que considere necesarios."
   ]
  },
  {
   "cell_type": "code",
   "execution_count": 51,
   "id": "fbb51dba-b7da-48db-a5b8-e40af7a23d7d",
   "metadata": {
    "tags": []
   },
   "outputs": [
    {
     "name": "stdin",
     "output_type": "stream",
     "text": [
      "Ingrese un numero de segundos :  5478\n"
     ]
    },
    {
     "data": {
      "text/plain": [
       "'1 Horas, 31 minutos, 18 segundos'"
      ]
     },
     "execution_count": 51,
     "metadata": {},
     "output_type": "execute_result"
    }
   ],
   "source": [
    "a= input(\"Ingrese un numero de segundos : \")\n",
    "\n",
    "def tiempo_segundo(x):\n",
    "    try:\n",
    "        y=int(x)\n",
    "        hora, restante = divmod(y, 3600)\n",
    "        minuto, segundo = divmod(restante, 60)\n",
    "        return f'{hora} Horas, {minuto} minutos, {segundo} segundos'\n",
    "    except:\n",
    "        return \"No ha ingresado un número entero\"\n",
    "    \n",
    "tiempo_segundo(a)"
   ]
  },
  {
   "cell_type": "markdown",
   "id": "e4d21805-7f15-4cbf-9c90-d8cfd8b2b3d4",
   "metadata": {},
   "source": [
    "## 2. Haga una función en Python que dado un número entre 1 y 20. Y un carácter cualquiera despliegue cuatro patrones triangulares."
   ]
  },
  {
   "cell_type": "code",
   "execution_count": 52,
   "id": "d13414d1-5f54-4965-b7c0-3df2de2a3a2c",
   "metadata": {
    "tags": []
   },
   "outputs": [
    {
     "name": "stdin",
     "output_type": "stream",
     "text": [
      "Ingrese un número entero entre 1 y 20 20\n",
      "Ingrese un carácter cualquiera ¿\n"
     ]
    },
    {
     "name": "stdout",
     "output_type": "stream",
     "text": [
      "¿ ¿¿¿¿¿¿¿¿¿¿¿¿¿¿¿¿¿¿¿¿ ¿¿¿¿¿¿¿¿¿¿¿¿¿¿¿¿¿¿¿¿ ¿\n",
      "¿¿ ¿¿¿¿¿¿¿¿¿¿¿¿¿¿¿¿¿¿¿ ¿¿¿¿¿¿¿¿¿¿¿¿¿¿¿¿¿¿¿ ¿¿\n",
      "¿¿¿ ¿¿¿¿¿¿¿¿¿¿¿¿¿¿¿¿¿¿ ¿¿¿¿¿¿¿¿¿¿¿¿¿¿¿¿¿¿ ¿¿¿\n",
      "¿¿¿¿ ¿¿¿¿¿¿¿¿¿¿¿¿¿¿¿¿¿ ¿¿¿¿¿¿¿¿¿¿¿¿¿¿¿¿¿ ¿¿¿¿\n",
      "¿¿¿¿¿ ¿¿¿¿¿¿¿¿¿¿¿¿¿¿¿¿ ¿¿¿¿¿¿¿¿¿¿¿¿¿¿¿¿ ¿¿¿¿¿\n",
      "¿¿¿¿¿¿ ¿¿¿¿¿¿¿¿¿¿¿¿¿¿¿ ¿¿¿¿¿¿¿¿¿¿¿¿¿¿¿ ¿¿¿¿¿¿\n",
      "¿¿¿¿¿¿¿ ¿¿¿¿¿¿¿¿¿¿¿¿¿¿ ¿¿¿¿¿¿¿¿¿¿¿¿¿¿ ¿¿¿¿¿¿¿\n",
      "¿¿¿¿¿¿¿¿ ¿¿¿¿¿¿¿¿¿¿¿¿¿ ¿¿¿¿¿¿¿¿¿¿¿¿¿ ¿¿¿¿¿¿¿¿\n",
      "¿¿¿¿¿¿¿¿¿ ¿¿¿¿¿¿¿¿¿¿¿¿ ¿¿¿¿¿¿¿¿¿¿¿¿ ¿¿¿¿¿¿¿¿¿\n",
      "¿¿¿¿¿¿¿¿¿¿ ¿¿¿¿¿¿¿¿¿¿¿ ¿¿¿¿¿¿¿¿¿¿¿ ¿¿¿¿¿¿¿¿¿¿\n",
      "¿¿¿¿¿¿¿¿¿¿¿ ¿¿¿¿¿¿¿¿¿¿ ¿¿¿¿¿¿¿¿¿¿ ¿¿¿¿¿¿¿¿¿¿¿\n",
      "¿¿¿¿¿¿¿¿¿¿¿¿ ¿¿¿¿¿¿¿¿¿ ¿¿¿¿¿¿¿¿¿ ¿¿¿¿¿¿¿¿¿¿¿¿\n",
      "¿¿¿¿¿¿¿¿¿¿¿¿¿ ¿¿¿¿¿¿¿¿ ¿¿¿¿¿¿¿¿ ¿¿¿¿¿¿¿¿¿¿¿¿¿\n",
      "¿¿¿¿¿¿¿¿¿¿¿¿¿¿ ¿¿¿¿¿¿¿ ¿¿¿¿¿¿¿ ¿¿¿¿¿¿¿¿¿¿¿¿¿¿\n",
      "¿¿¿¿¿¿¿¿¿¿¿¿¿¿¿ ¿¿¿¿¿¿ ¿¿¿¿¿¿ ¿¿¿¿¿¿¿¿¿¿¿¿¿¿¿\n",
      "¿¿¿¿¿¿¿¿¿¿¿¿¿¿¿¿ ¿¿¿¿¿ ¿¿¿¿¿ ¿¿¿¿¿¿¿¿¿¿¿¿¿¿¿¿\n",
      "¿¿¿¿¿¿¿¿¿¿¿¿¿¿¿¿¿ ¿¿¿¿ ¿¿¿¿ ¿¿¿¿¿¿¿¿¿¿¿¿¿¿¿¿¿\n",
      "¿¿¿¿¿¿¿¿¿¿¿¿¿¿¿¿¿¿ ¿¿¿ ¿¿¿ ¿¿¿¿¿¿¿¿¿¿¿¿¿¿¿¿¿¿\n",
      "¿¿¿¿¿¿¿¿¿¿¿¿¿¿¿¿¿¿¿ ¿¿ ¿¿ ¿¿¿¿¿¿¿¿¿¿¿¿¿¿¿¿¿¿¿\n",
      "¿¿¿¿¿¿¿¿¿¿¿¿¿¿¿¿¿¿¿¿ ¿ ¿ ¿¿¿¿¿¿¿¿¿¿¿¿¿¿¿¿¿¿¿¿\n"
     ]
    }
   ],
   "source": [
    "b= input(\"Ingrese un número entero entre 1 y 20\")\n",
    "c= input(\"Ingrese un carácter cualquiera\")\n",
    "\n",
    "def patron(w,  z):\n",
    "    try:\n",
    "        x=int(w)\n",
    "        y= str(z)\n",
    "        if((x >= 1) and (x <= 20)):\n",
    "            for i in range(1, x+1):\n",
    "                print(i*y, (x+1-i)*y, (x+1-i)*y,i*y)\n",
    "        else:\n",
    "            return \"El número no esta entre 1 y 20\"\n",
    "    except:\n",
    "        return 'No ha ingresado un número entero y un carácter valido'\n",
    "\n",
    "patron(b,c)"
   ]
  },
  {
   "cell_type": "markdown",
   "id": "d997f3c3-dc6d-4cbc-9e2f-ca12a1347c10",
   "metadata": {},
   "source": [
    "## 3. Haga un programa en Python que la fecha de nacimiento de una persona (puede ingresar por separado cada valor, es decir pedir primero día, luego mes y luego año), despliegue la edad de la persona en años, meses y días. Su resultado puede ser aproximado."
   ]
  },
  {
   "cell_type": "markdown",
   "id": "74f0a32e-a0fa-48c4-af76-5ad0755d457d",
   "metadata": {},
   "source": [
    "Utilizando la libreria datetime para el manejo de fechas"
   ]
  },
  {
   "cell_type": "code",
   "execution_count": 53,
   "id": "ca709aa3-22bf-4470-b810-2976c6a6ba16",
   "metadata": {
    "tags": []
   },
   "outputs": [
    {
     "name": "stdin",
     "output_type": "stream",
     "text": [
      "Ingrese el día con un número entero de la fecha de su nacimiento 6\n",
      "Ingrese el mes con un número entero de la fecha de su nacimiento 7\n",
      "Ingrese el año con un número entero de la fecha de su nacimiento 1991\n"
     ]
    },
    {
     "data": {
      "text/plain": [
       "'Su edad es 33 años'"
      ]
     },
     "execution_count": 53,
     "metadata": {},
     "output_type": "execute_result"
    }
   ],
   "source": [
    "a = input(\"Ingrese el día con un número entero de la fecha de su nacimiento\")\n",
    "b = input(\"Ingrese el mes con un número entero de la fecha de su nacimiento\")\n",
    "c = input(\"Ingrese el año con un número entero de la fecha de su nacimiento\")\n",
    "\n",
    "def fecha_nacimiento(a, b, c):\n",
    "    try:\n",
    "        fecha = datetime.strptime('/'.join([str(int(a)),str(int(b)),str(int(c))]), '%d/%m/%Y').year\n",
    "        hoy = datetime.now().year    \n",
    "        return f'Su edad es {(hoy-fecha)} años'\n",
    "    except:\n",
    "        print(\"A colocado una fecha incorrecta\")\n",
    "\n",
    " \n",
    "fecha_nacimiento(a,b,c)"
   ]
  },
  {
   "cell_type": "markdown",
   "id": "4eb30771-36f1-4d1e-9938-7b14340d0890",
   "metadata": {},
   "source": [
    "## 4. Escriba una función en Python que dada una tupla de elementos (números o letras) esta se convierta a un string:"
   ]
  },
  {
   "cell_type": "code",
   "execution_count": 55,
   "id": "9396fc7b-64db-4902-98f0-9429fb14c2f4",
   "metadata": {
    "tags": []
   },
   "outputs": [
    {
     "data": {
      "text/plain": [
       "'PRUEBA1'"
      ]
     },
     "execution_count": 55,
     "metadata": {},
     "output_type": "execute_result"
    }
   ],
   "source": [
    "def join_tupla(t):\n",
    "    if isinstance(t, tuple):\n",
    "        t = tuple(str(item) for item in t)\n",
    "        return ''.join(t)\n",
    "    else:\n",
    "        return 'No ingreso una tupla'\n",
    "join_tupla((\"P\",\"R\",\"U\",\"E\",\"B\",\"A\",1))"
   ]
  },
  {
   "cell_type": "markdown",
   "id": "b26c82db-d136-4b04-b797-e3975b79972d",
   "metadata": {},
   "source": [
    "## 5. Cree un programa en Python que dada una lista de tuplas, elimine las tuplas que están vacías"
   ]
  },
  {
   "cell_type": "code",
   "execution_count": 56,
   "id": "c4c7a90f-fdad-47c4-aac7-00fb34fcb8d8",
   "metadata": {
    "tags": []
   },
   "outputs": [
    {
     "data": {
      "text/plain": [
       "[(1, 'MCD'), 'GALILEO', (3, 4), (5, 6)]"
      ]
     },
     "execution_count": 56,
     "metadata": {},
     "output_type": "execute_result"
    }
   ],
   "source": [
    "def clean_tupla(listup):\n",
    "    if isinstance(listup, list):\n",
    "        lista = [x for x in listup if len(x)!=0]\n",
    "        return lista\n",
    "    else:\n",
    "        return 'No ha ingresado una lista de tuplas'\n",
    "    \n",
    "#Tupa de prueba\n",
    "tup = [(1, 'MCD'), ('GALILEO'), (),(3, 4), (), (), (5, 6), ()]\n",
    "#Uso de función\n",
    "clean_tupla(tup)\n"
   ]
  },
  {
   "cell_type": "markdown",
   "id": "28c60270-f206-468b-a97e-41ca8214f5c8",
   "metadata": {
    "tags": []
   },
   "source": [
    "## 6. Cree una función en Python que dada una tupla de tuplas con números, produzca una tupla con el promedio de cada tupla individual, debe usar comprehensions para desarrollar este ejercicio. "
   ]
  },
  {
   "cell_type": "code",
   "execution_count": 57,
   "id": "d9fc6f08-0721-42b8-81a4-42852b5e17ca",
   "metadata": {
    "tags": []
   },
   "outputs": [
    {
     "data": {
      "text/plain": [
       "(15.0, 2.0, 15.0, 150.0)"
      ]
     },
     "execution_count": 57,
     "metadata": {},
     "output_type": "execute_result"
    }
   ],
   "source": [
    "def mean_tupla(ttup):\n",
    "    try: \n",
    "        lista = tuple(sum(x)/len(x) for x in ttup)\n",
    "        return lista\n",
    "    except:\n",
    "        return 'No ha ingresado una tupla con valores int o float'\n",
    "\n",
    "# Tupla prueba\n",
    "prueba = ((10,20),(1,2,3),(20,10,10,20),(100,200))\n",
    "#Prueba de función\n",
    "mean_tupla(prueba)"
   ]
  },
  {
   "cell_type": "markdown",
   "id": "929ccf7f-d33c-4bd0-a4ee-bb0e7ef505e9",
   "metadata": {},
   "source": [
    "## 7.1 Escribir un programa que gestione las facturas pendientes de cobro de una empresa. Las facturas se almacenarán en un diccionario donde la llave de cada factura será el número de factura (debe utilizar un numero de 4 dígitos) y el valor el coste de la factura. El programa debe preguntar al usuario si quiere añadir una nueva factura, pagar una existente o terminar. Si desea añadir una nueva factura se preguntará por el número de factura y su coste y se añaadirá al diccionario, para confirmar que la factura se ingreso correctamente el programa debe desplegar el diccionario completo. Si se desea pagar una factura se preguntará por el nu´mero de factura y se eliminará del diccionario. Después de cada operación el programa debe mostrar en pantalla la cantidad cobrada hasta el momento y la cantidad pendiente de cobro. Puede utilizar otras estructuras de datos como apoyo si lo considera necesario"
   ]
  },
  {
   "cell_type": "code",
   "execution_count": 58,
   "id": "9f968d6a-da02-4156-b276-d40a2da28b6a",
   "metadata": {
    "tags": []
   },
   "outputs": [
    {
     "name": "stdin",
     "output_type": "stream",
     "text": [
      "Si desea ingresar una factura presione 1, si desea pagar una factura presione 2 , si desea salir presione 3 1\n",
      "Ingrese un numero de factura de 4 digitos 2f3d\n"
     ]
    },
    {
     "name": "stdout",
     "output_type": "stream",
     "text": [
      "Factura valida\n"
     ]
    },
    {
     "name": "stdin",
     "output_type": "stream",
     "text": [
      "Ingrese el monto de la factura 1500\n"
     ]
    },
    {
     "name": "stdout",
     "output_type": "stream",
     "text": [
      "Monto valido\n",
      "Sus facturas registradas son las siguientes\n",
      "{'2f3d': 1500.0}\n",
      "El total a pagar hasta el momento es 1500.0\n"
     ]
    },
    {
     "name": "stdin",
     "output_type": "stream",
     "text": [
      "Si desea ingresar una factura presione 1, si desea pagar una factura presione 2 , si desea salir presione 3 1\n",
      "Ingrese un numero de factura de 4 digitos 8f5t\n"
     ]
    },
    {
     "name": "stdout",
     "output_type": "stream",
     "text": [
      "Factura valida\n"
     ]
    },
    {
     "name": "stdin",
     "output_type": "stream",
     "text": [
      "Ingrese el monto de la factura 3500\n"
     ]
    },
    {
     "name": "stdout",
     "output_type": "stream",
     "text": [
      "Monto valido\n",
      "Sus facturas registradas son las siguientes\n",
      "{'2f3d': 1500.0, '8f5t': 3500.0}\n",
      "El total a pagar hasta el momento es 5000.0\n"
     ]
    },
    {
     "name": "stdin",
     "output_type": "stream",
     "text": [
      "Si desea ingresar una factura presione 1, si desea pagar una factura presione 2 , si desea salir presione 3 1\n",
      "Ingrese un numero de factura de 4 digitos t56y\n"
     ]
    },
    {
     "name": "stdout",
     "output_type": "stream",
     "text": [
      "Factura valida\n"
     ]
    },
    {
     "name": "stdin",
     "output_type": "stream",
     "text": [
      "Ingrese el monto de la factura 10700\n"
     ]
    },
    {
     "name": "stdout",
     "output_type": "stream",
     "text": [
      "Monto valido\n",
      "Sus facturas registradas son las siguientes\n",
      "{'2f3d': 1500.0, '8f5t': 3500.0, 't56y': 10700.0}\n",
      "El total a pagar hasta el momento es 15700.0\n"
     ]
    },
    {
     "name": "stdin",
     "output_type": "stream",
     "text": [
      "Si desea ingresar una factura presione 1, si desea pagar una factura presione 2 , si desea salir presione 3 2\n",
      "Ingrese un numero de factura de 4 digitos 2f3d\n"
     ]
    },
    {
     "name": "stdout",
     "output_type": "stream",
     "text": [
      "Se pago la factura 2f3d\n",
      "Sus facturas registradas son las siguientes\n",
      "{'8f5t': 3500.0, 't56y': 10700.0}\n",
      "El total a pagar hasta el momento es 14200.0\n"
     ]
    },
    {
     "name": "stdin",
     "output_type": "stream",
     "text": [
      "Si desea ingresar una factura presione 1, si desea pagar una factura presione 2 , si desea salir presione 3 3\n"
     ]
    },
    {
     "name": "stdout",
     "output_type": "stream",
     "text": [
      "{'8f5t': 3500.0, 't56y': 10700.0}\n",
      "El monto pendiente de pago es 14200.0\n",
      "Saliendo del sistema....\n"
     ]
    }
   ],
   "source": [
    "dict1 = { } \n",
    "while True:  \n",
    "    try:\n",
    "        e = int(input('Si desea ingresar una factura presione 1, si desea pagar una factura presione 2 , si desea salir presione 3'))\n",
    "        if(e == 1):\n",
    "            f = input('Ingrese un numero de factura de 4 digitos')\n",
    "            if((len(f)<5) & (len(f)>0)):\n",
    "                print(\"Factura valida\")\n",
    "                c = input('Ingrese el monto de la factura')\n",
    "                try:\n",
    "                    float(c)\n",
    "                    print('Monto valido')\n",
    "                    dict1[f]= float(c)\n",
    "                    print(\"Sus facturas registradas son las siguientes\")\n",
    "                    print(dict1)\n",
    "                    total = sum(list(dict1.values()))\n",
    "                    print(f\"El total a pagar hasta el momento es {total}\")\n",
    "                except: \n",
    "                    print('Monto no valido')\n",
    "            else:\n",
    "                print('Factura no valida')\n",
    "        else:\n",
    "            if(e == 2):\n",
    "                f = input('Ingrese un numero de factura de 4 digitos')\n",
    "                if((len(f)<5) & (len(f)>0)):\n",
    "                    try:\n",
    "                        del dict1[f]\n",
    "                        print(f\"Se pago la factura {f}\")\n",
    "                        print(\"Sus facturas registradas son las siguientes\")\n",
    "                        print(dict1)\n",
    "                        total = sum(list(dict1.values()))\n",
    "                        print(f\"El total a pagar hasta el momento es {total}\")\n",
    "                    except: \n",
    "                        print('Factura no valida')\n",
    "            else:\n",
    "                if(e == 3):\n",
    "                    print(dict1)\n",
    "                    total = sum(list(dict1.values()))\n",
    "                    print(f\"El monto pendiente de pago es {total}\")\n",
    "                    print(\"Saliendo del sistema....\")\n",
    "                    break\n",
    "                else:\n",
    "                    print(\"Opción no valida en el sistema pruebe nuevamente colocando las opciones 1, 2 o 3\")\n",
    "    except:\n",
    "        print(\"Opción no valida en el sistema pruebe nuevamente colocando las opciones 1, 2 o 3\")\n"
   ]
  },
  {
   "cell_type": "markdown",
   "id": "531af528-ce7d-4bcc-ba11-11691742f017",
   "metadata": {},
   "source": [
    "## 8.Haga una función en Python, que cree un set con todas las cartas de una baraja de Pocker utilizando el siguiente formato: Tipo-Numero. Utilice las letras T para tréboles, C para corazones, P para picas y E para espadas. Para los nu´meros utilice la numeración del 1 al 13. Por ejemplo E13 - sería Rey de Espadas, P01 sería As de Picas, T05 sería cinco de Tréboles.\n",
    "\n",
    "Posteriormente cree una función que dado el conjunto anterior cree dos sets nuevos de cartas, cada conjunto debe tener una cantidad variable de elementos, puede utilizar nu´meros aleatorios enteros para definir la longitud de los conjuntos.\n",
    "\n",
    "Adicionalmente, deberá calcular la probabilidad de la intersecci´on de ambos conjuntos y demuestre si son eventos independientes con la regla del producto. Para concluir, calcule probabilidad de la uni´on de ambos conjuntos y demuestre que se cumple la regla de la adici´on"
   ]
  },
  {
   "cell_type": "code",
   "execution_count": 59,
   "id": "c8faafab-129c-47cf-a143-f6726962a326",
   "metadata": {
    "tags": []
   },
   "outputs": [],
   "source": [
    "import random as random\n",
    "from random import sample \n",
    "import math"
   ]
  },
  {
   "cell_type": "code",
   "execution_count": 60,
   "id": "a691a231-933a-449d-b57c-dd607958335f",
   "metadata": {
    "tags": []
   },
   "outputs": [
    {
     "name": "stdout",
     "output_type": "stream",
     "text": [
      "La baraja tiene 52 cartas\n",
      "{'T4', 'C2', 'T6', 'P7', 'P10', 'E1', 'T2', 'E4', 'C5', 'C8', 'C3', 'T5', 'T1', 'T12', 'E3', 'E6', 'C13', 'P12', 'C6', 'C9', 'E12', 'P5', 'E11', 'C10', 'P13', 'T10', 'C7', 'E13', 'E8', 'P8', 'E10', 'T9', 'T7', 'P3', 'T8', 'P4', 'P9', 'T3', 'E2', 'E7', 'E5', 'T11', 'P6', 'C11', 'C4', 'P11', 'C12', 'T13', 'P1', 'E9', 'P2', 'C1'}\n"
     ]
    }
   ],
   "source": [
    "y=set()\n",
    "\n",
    "for j in [\"T\",\"C\",\"P\",\"E\"]:\n",
    "    for i in range(1,14):\n",
    "        y.add(f\"{j}{str(i)}\")\n",
    "\n",
    "print(f\"La baraja tiene {len(y)} cartas\")\n",
    "print(y)"
   ]
  },
  {
   "cell_type": "markdown",
   "id": "4e01cb9c-54ef-4996-ae3c-835011c818a6",
   "metadata": {},
   "source": [
    "### Tomar las cartas sin reemplazo según indica enunciado"
   ]
  },
  {
   "cell_type": "code",
   "execution_count": 61,
   "id": "1e5d9fd0-6bf4-408b-bd90-5e233546f696",
   "metadata": {
    "tags": []
   },
   "outputs": [
    {
     "name": "stdout",
     "output_type": "stream",
     "text": [
      "En la primera mano se toman 51 cartas\n",
      "La primera mano consta de estas cartas {'T4', 'C2', 'T6', 'P7', 'P10', 'E1', 'T2', 'E4', 'C5', 'C8', 'C3', 'T5', 'T12', 'T1', 'E3', 'E6', 'C13', 'P12', 'C6', 'C9', 'E12', 'P5', 'E11', 'C10', 'P13', 'T10', 'C7', 'E13', 'E8', 'P8', 'E10', 'T9', 'P3', 'T7', 'T8', 'P4', 'P9', 'T3', 'E2', 'E7', 'E5', 'T11', 'P6', 'C11', 'P11', 'C12', 'T13', 'P1', 'E9', 'P2', 'C1'}\n",
      "En la segunda mano se toman 1 cartas\n",
      "La segunda mano consta de estas cartas {'C4'}\n"
     ]
    }
   ],
   "source": [
    "n =random.randint(1,52)\n",
    "print(f\"En la primera mano se toman {n} cartas\")\n",
    "x = set(random.sample(list(y),n))\n",
    "print(f\"La primera mano consta de estas cartas {x}\")\n",
    "z = y-x\n",
    "m = random.randint(1,52-n)\n",
    "print(f\"En la segunda mano se toman {m} cartas\")\n",
    "w = set(random.sample(list(z),m))\n",
    "print(f\"La segunda mano consta de estas cartas {w}\")\n"
   ]
  },
  {
   "cell_type": "markdown",
   "id": "04a6c80b-7972-4a08-a7f3-970be2e05c3a",
   "metadata": {},
   "source": [
    "### Probabilidad del intercepto"
   ]
  },
  {
   "cell_type": "code",
   "execution_count": 62,
   "id": "f1ea1c33-52cf-4f0b-b0fb-6443dae813c5",
   "metadata": {
    "tags": []
   },
   "outputs": [
    {
     "name": "stdout",
     "output_type": "stream",
     "text": [
      "La probabilidad calculada con el intercepto de los conjuntos es de 0.0\n",
      "La probabilidad calculada con la regla del producto es de 0.02\n",
      "los eventos no son independientes\n"
     ]
    }
   ],
   "source": [
    "#Probabilidad del intercepto\n",
    "c1r = len(x.intersection(w))/len(y)\n",
    "#Probabilidad por la regla del producto\n",
    "c2r = (len(x)/len(y))*(len(w)/len(y))\n",
    "\n",
    "print(f\"La probabilidad calculada con el intercepto de los conjuntos es de {round(c1r,2)}\")\n",
    "\n",
    "print(f\"La probabilidad calculada con la regla del producto es de {round(c2r,2)}\")\n",
    "\n",
    "if(c1r==c2r):\n",
    "    print(\"los eventos son independientes\")\n",
    "else:\n",
    "    print(\"los eventos no son independientes\")"
   ]
  },
  {
   "cell_type": "markdown",
   "id": "5883949c-4a2a-4e8f-ade1-5f4f14b8e78b",
   "metadata": {},
   "source": [
    "### Probabilidad de la únion\n"
   ]
  },
  {
   "cell_type": "code",
   "execution_count": 63,
   "id": "66b30aed-da70-4446-a158-d24c57e4b73c",
   "metadata": {
    "tags": []
   },
   "outputs": [
    {
     "name": "stdout",
     "output_type": "stream",
     "text": [
      "La probabilidad calculada con la unión de los conjuntos es de 1.0\n",
      "La probabilidad calculada con la regla de la adición es de 1.0\n",
      "Se cumple la regla de  la adición\n"
     ]
    }
   ],
   "source": [
    "#Probabilidad de la únión\n",
    "u1r = len(x.union(w))/len(y) \n",
    "#Probabilidad por la regla del producto\n",
    "u2r = len(x)/len(y)+len(w)/len(y) -c1r \n",
    "\n",
    "print(f\"La probabilidad calculada con la unión de los conjuntos es de {round(u1r,2)}\")\n",
    "\n",
    "print(f\"La probabilidad calculada con la regla de la adición es de {round(u2r,2)}\")\n",
    "\n",
    "if(u1r==u2r):\n",
    "    print(\"Se cumple la regla de  la adición\")\n",
    "else:\n",
    "    print(\"No se cumple la regla de la adición\")"
   ]
  },
  {
   "cell_type": "markdown",
   "id": "ccc71503-3856-4a03-a784-167ca0c97575",
   "metadata": {
    "tags": []
   },
   "source": [
    "## Subir a GITHUB"
   ]
  },
  {
   "cell_type": "code",
   "execution_count": null,
   "id": "bd976537-0e0b-4ded-bf16-68500d56b12d",
   "metadata": {
    "tags": []
   },
   "outputs": [],
   "source": [
    "cd \"C:/Users/joshp/Documents/Ciencia_de_Datos_Python/Laboratorios\""
   ]
  },
  {
   "cell_type": "code",
   "execution_count": null,
   "id": "cdf75d17-ed1c-49a9-8105-0fa769b739c3",
   "metadata": {},
   "outputs": [],
   "source": [
    "!git config --global user.email \"24000134@galileo.edu\"\n",
    "!git config --global user.name \"pjsantizo0607\""
   ]
  },
  {
   "cell_type": "code",
   "execution_count": null,
   "id": "6d2a7abd-71c8-4b61-90ad-cb7814036ae2",
   "metadata": {},
   "outputs": [],
   "source": [
    "!git init"
   ]
  },
  {
   "cell_type": "code",
   "execution_count": null,
   "id": "0939744b-0e1b-45c9-87f4-3e5e509792d9",
   "metadata": {},
   "outputs": [],
   "source": [
    "!git add ."
   ]
  },
  {
   "cell_type": "code",
   "execution_count": null,
   "id": "283bffe7-7fb8-4a45-b4b9-4976e70724b8",
   "metadata": {},
   "outputs": [],
   "source": [
    "!git commit -m \"Actualizando notebook a GitHub\""
   ]
  },
  {
   "cell_type": "code",
   "execution_count": null,
   "id": "a00aef93-0043-4a24-9c36-368efce42e76",
   "metadata": {},
   "outputs": [],
   "source": [
    "!git remote add origin https://github.com/pjsantizo0607/Laboratorio2.git"
   ]
  },
  {
   "cell_type": "code",
   "execution_count": null,
   "id": "266cfb74-38a3-4e3d-b309-5f5c764eaaa4",
   "metadata": {},
   "outputs": [],
   "source": [
    "!git push -u origin master"
   ]
  }
 ],
 "metadata": {
  "kernelspec": {
   "display_name": "Python 3 (ipykernel)",
   "language": "python",
   "name": "python3"
  },
  "language_info": {
   "codemirror_mode": {
    "name": "ipython",
    "version": 3
   },
   "file_extension": ".py",
   "mimetype": "text/x-python",
   "name": "python",
   "nbconvert_exporter": "python",
   "pygments_lexer": "ipython3",
   "version": "3.11.7"
  }
 },
 "nbformat": 4,
 "nbformat_minor": 5
}
