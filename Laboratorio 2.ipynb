{
 "cells": [
  {
   "cell_type": "markdown",
   "id": "b107c298-6c0b-454c-bf2e-bd4bdbf9329a",
   "metadata": {},
   "source": [
    "# Laboratorio # 2\n",
    "**Nombre:** Pablo Santizo\\\n",
    "**Carné:** 24000134\\\n",
    "**Curso** Ciencia de Datos en Python\\\n",
    "**Maestría:** Data Science\\\n",
    "**Universidad:** Galileo, Instituto en Investigación de Operaciones"
   ]
  },
  {
   "cell_type": "markdown",
   "id": "5b03f48f-4fa4-42e8-b7d8-eeb6d9bc820b",
   "metadata": {
    "tags": []
   },
   "source": [
    "# Parte #1 - (Programación y Sintaxis): \n",
    "A continuación se le muestran una lista de ejercicios que deberá completar utilizando Python, debe usar Markdown para indicar donde inicia cada uno de los ejercicios."
   ]
  },
  {
   "cell_type": "code",
   "execution_count": null,
   "id": "0389d803-898c-4092-9d40-89afd0f3a244",
   "metadata": {
    "tags": []
   },
   "outputs": [],
   "source": [
    "import pandas as pd\n",
    "import numpy as np \n",
    "from datetime import datetime"
   ]
  },
  {
   "cell_type": "markdown",
   "id": "e561d260-4c46-4d44-94b8-cad511c6612c",
   "metadata": {},
   "source": [
    "### 1. Haga un programa en Python que reciba de parámetro un número de segundos y que despliegue en pantalla, las horas, minutos y segundos que representan.  Recuerde manejar excepciones y errores que considere necesarios."
   ]
  },
  {
   "cell_type": "code",
   "execution_count": 1,
   "id": "fbb51dba-b7da-48db-a5b8-e40af7a23d7d",
   "metadata": {
    "tags": []
   },
   "outputs": [
    {
     "name": "stdin",
     "output_type": "stream",
     "text": [
      "Ingrese un numero de segundos :  5479\n"
     ]
    },
    {
     "data": {
      "text/plain": [
       "'1 Horas, 31 minutos, 19 segundos'"
      ]
     },
     "execution_count": 1,
     "metadata": {},
     "output_type": "execute_result"
    }
   ],
   "source": [
    "a= input(\"Ingrese un numero de segundos : \")\n",
    "\n",
    "def tiempo_segundo(x):\n",
    "    try:\n",
    "        y=int(x)\n",
    "        hora, restante = divmod(y, 3600)\n",
    "        minuto, segundo = divmod(restante, 60)\n",
    "        return f'{hora} Horas, {minuto} minutos, {segundo} segundos'\n",
    "    except:\n",
    "        return \"No ha ingresado un número entero\"\n",
    "    \n",
    "tiempo_segundo(a)"
   ]
  },
  {
   "cell_type": "markdown",
   "id": "e4d21805-7f15-4cbf-9c90-d8cfd8b2b3d4",
   "metadata": {},
   "source": [
    "### 2. Haga una función en Python que dado un número entre 1 y 20. Y un carácter cualquiera despliegue cuatro patrones triangulares."
   ]
  },
  {
   "cell_type": "code",
   "execution_count": 2,
   "id": "d13414d1-5f54-4965-b7c0-3df2de2a3a2c",
   "metadata": {
    "tags": []
   },
   "outputs": [
    {
     "name": "stdin",
     "output_type": "stream",
     "text": [
      "Ingrese un número entero entre 1 y 20 20\n",
      "Ingrese un carácter cualquiera *\n"
     ]
    },
    {
     "name": "stdout",
     "output_type": "stream",
     "text": [
      "* ******************** ******************** *\n",
      "** ******************* ******************* **\n",
      "*** ****************** ****************** ***\n",
      "**** ***************** ***************** ****\n",
      "***** **************** **************** *****\n",
      "****** *************** *************** ******\n",
      "******* ************** ************** *******\n",
      "******** ************* ************* ********\n",
      "********* ************ ************ *********\n",
      "********** *********** *********** **********\n",
      "*********** ********** ********** ***********\n",
      "************ ********* ********* ************\n",
      "************* ******** ******** *************\n",
      "************** ******* ******* **************\n",
      "*************** ****** ****** ***************\n",
      "**************** ***** ***** ****************\n",
      "***************** **** **** *****************\n",
      "****************** *** *** ******************\n",
      "******************* ** ** *******************\n",
      "******************** * * ********************\n"
     ]
    }
   ],
   "source": [
    "b= input(\"Ingrese un número entero entre 1 y 20\")\n",
    "c= input(\"Ingrese un carácter cualquiera\")\n",
    "\n",
    "def patron(w,  z):\n",
    "    try:\n",
    "        x=int(w)\n",
    "        y= str(z)\n",
    "        if((x >= 1) and (x <= 20)):\n",
    "            for i in range(1, x+1):\n",
    "                print(i*y, (x+1-i)*y, (x+1-i)*y,i*y)\n",
    "        else:\n",
    "            return \"El número no esta entre 1 y 20\"\n",
    "    except:\n",
    "        return 'No ha ingresado un número entero y un carácter valido'\n",
    "\n",
    "patron(b,c)"
   ]
  },
  {
   "cell_type": "markdown",
   "id": "d997f3c3-dc6d-4cbc-9e2f-ca12a1347c10",
   "metadata": {},
   "source": [
    "### 3. Haga un programa en Python que la fecha de nacimiento de una persona (puede ingresar por separado cada valor, es decir pedir primero día, luego mes y luego año), despliegue la edad de la persona en años, meses y días. Su resultado puede ser aproximado."
   ]
  },
  {
   "cell_type": "code",
   "execution_count": null,
   "id": "ca709aa3-22bf-4470-b810-2976c6a6ba16",
   "metadata": {
    "tags": []
   },
   "outputs": [],
   "source": [
    "def fecha_nacimiento(d:int=None, m:int=None, y:int=1989):\n",
    "    if isinstance(d, int) and isinstance(m, int) and isinstance(y, int) :\n",
    "        fecha = datetime.strptime('/'.join([str(d),str(m),str(y)]), '%d/%m/%Y').year\n",
    "        hoy = datetime.now().year\n",
    "        return f'tu edad es de {(hoy-fecha)}'\n",
    "    else:\n",
    "        return 'Revisar documentacion'\n",
    "    \n",
    "fecha_nacimiento(6,7,1991)"
   ]
  },
  {
   "cell_type": "code",
   "execution_count": null,
   "id": "9396fc7b-64db-4902-98f0-9429fb14c2f4",
   "metadata": {
    "tags": []
   },
   "outputs": [],
   "source": [
    "def join_tupla(t:tuple=None):\n",
    "    if isinstance(t, tuple):\n",
    "        t = tuple(str(item) for item in t)\n",
    "        return ''.join(t)\n",
    "    else:\n",
    "        return 'revisar documentacion'\n",
    "\n",
    "join_tupla((1,2,'M','I','E','@','!','#',9,0))"
   ]
  },
  {
   "cell_type": "code",
   "execution_count": null,
   "id": "d9fc6f08-0721-42b8-81a4-42852b5e17ca",
   "metadata": {
    "tags": []
   },
   "outputs": [],
   "source": [
    "\n",
    "def mean_tupla(l:tuple=None):\n",
    "    if isinstance(l, tuple):\n",
    "        lista = tuple(sum(tup)/len(tup) for tup in l if tup)\n",
    "        return lista\n",
    "    else:\n",
    "        return 'Revisar documentacion'\n",
    "    \n",
    "mean_tupla(((10,10),(1,2,3)))"
   ]
  },
  {
   "cell_type": "code",
   "execution_count": null,
   "id": "a691a231-933a-449d-b57c-dd607958335f",
   "metadata": {
    "tags": []
   },
   "outputs": [],
   "source": [
    "y=set()\n",
    "\n",
    "for j in [\"T\",\"C\",\"P\",\"E\"]:\n",
    "    for i in range(1,14):\n",
    "        y.add(f\"{j}{str(i)}\")\n",
    "type(y)\n",
    "len(y)"
   ]
  },
  {
   "cell_type": "code",
   "execution_count": 68,
   "id": "8c4a6b2d-f3a1-41b7-bd8e-bfe2cf794d9e",
   "metadata": {
    "tags": []
   },
   "outputs": [],
   "source": [
    "import random as random\n",
    "from random import sample \n",
    "import math"
   ]
  },
  {
   "cell_type": "code",
   "execution_count": 94,
   "id": "1e5d9fd0-6bf4-408b-bd90-5e233546f696",
   "metadata": {
    "tags": []
   },
   "outputs": [
    {
     "name": "stdout",
     "output_type": "stream",
     "text": [
      "12\n",
      "{'E3', 'P2', 'P4', 'E1', 'T1', 'T4', 'T10', 'C5', 'E10', 'T5', 'E11', 'E13'}\n",
      "{'P1', 'C9', 'E6', 'C10', 'P8', 'P5', 'T8', 'T2', 'C13', 'T7', 'C4', 'T6', 'E5', 'E12', 'C1', 'P9', 'T9', 'C3', 'E4', 'C11', 'P13', 'T12', 'C7', 'C6', 'E8', 'C12', 'C8', 'E7', 'P3', 'P10', 'P11', 'P7', 'E9', 'T3', 'P12', 'P6', 'T11', 'C2', 'E2', 'T13'}\n",
      "{'E5', 'T12', 'T13', 'P10'}\n"
     ]
    }
   ],
   "source": [
    "n =random.randint(1,52)\n",
    "print(n)\n",
    "x = set(random.sample(list(y),n))\n",
    "print(x)\n",
    "z = y-x\n",
    "m = random.randint(1,52-n)\n",
    "print(y-x)\n",
    "w = set(random.sample(list(z),m))\n",
    "print(w)"
   ]
  },
  {
   "cell_type": "code",
   "execution_count": 95,
   "id": "6b098670-b626-4d0f-8a0a-0d750ae88126",
   "metadata": {
    "tags": []
   },
   "outputs": [
    {
     "data": {
      "text/plain": [
       "40"
      ]
     },
     "execution_count": 95,
     "metadata": {},
     "output_type": "execute_result"
    }
   ],
   "source": [
    "len(z)"
   ]
  },
  {
   "cell_type": "code",
   "execution_count": 96,
   "id": "8239673b-ae53-417e-9562-50179017c921",
   "metadata": {
    "tags": []
   },
   "outputs": [
    {
     "name": "stdout",
     "output_type": "stream",
     "text": [
      "0.23076923076923078\n",
      "0.1\n"
     ]
    },
    {
     "data": {
      "text/plain": [
       "0.023076923076923078"
      ]
     },
     "execution_count": 96,
     "metadata": {},
     "output_type": "execute_result"
    }
   ],
   "source": [
    "px = len(x)/len(y)\n",
    "pw =len(w)/len(z)\n",
    "print(px)\n",
    "print(pw)\n",
    "px*pw"
   ]
  },
  {
   "cell_type": "code",
   "execution_count": 97,
   "id": "7bb11348-3f8b-4af8-9c33-395dc3f755ae",
   "metadata": {
    "tags": []
   },
   "outputs": [
    {
     "name": "stdout",
     "output_type": "stream",
     "text": [
      "set()\n"
     ]
    },
    {
     "data": {
      "text/plain": [
       "1.09421162052741e-05"
      ]
     },
     "execution_count": 97,
     "metadata": {},
     "output_type": "execute_result"
    }
   ],
   "source": [
    "print(x & w)\n",
    "1/math.comb(52, n)\n",
    "1/math.comb(len(z),m)"
   ]
  },
  {
   "cell_type": "code",
   "execution_count": null,
   "id": "e57727dd-1972-4120-a75a-b602fce3f9c4",
   "metadata": {
    "tags": []
   },
   "outputs": [],
   "source": [
    "import random\n",
    "\n",
    "aSet = {\"Jhon\", \"kelly\", \"Scoot\", \"Emma\", \"Eric\"}\n",
    "# random 3 samples from set\n",
    "sampled_set = random.sample(aSet, 3)\n",
    "print(sampled_set)\n",
    "# Output ['Emma', 'kelly', 'Eric']"
   ]
  },
  {
   "cell_type": "code",
   "execution_count": null,
   "id": "3fce4fd4-beac-47ec-aa8e-5dfe05171f93",
   "metadata": {},
   "outputs": [],
   "source": []
  }
 ],
 "metadata": {
  "kernelspec": {
   "display_name": "Python 3 (ipykernel)",
   "language": "python",
   "name": "python3"
  },
  "language_info": {
   "codemirror_mode": {
    "name": "ipython",
    "version": 3
   },
   "file_extension": ".py",
   "mimetype": "text/x-python",
   "name": "python",
   "nbconvert_exporter": "python",
   "pygments_lexer": "ipython3",
   "version": "3.11.7"
  }
 },
 "nbformat": 4,
 "nbformat_minor": 5
}
